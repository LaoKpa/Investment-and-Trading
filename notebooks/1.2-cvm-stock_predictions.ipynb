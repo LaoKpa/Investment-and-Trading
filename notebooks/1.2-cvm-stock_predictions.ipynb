{
 "cells": [
  {
   "cell_type": "markdown",
   "metadata": {},
   "source": [
    "# Stock Predictions\n",
    "\n",
    "## Using LSTM in Keras with TensorFlow\n",
    "\n",
    "_Deep Learning Nanodegree Program | Deployment Model_\n",
    "\n",
    "---"
   ]
  },
  {
   "cell_type": "markdown",
   "metadata": {},
   "source": [
    "## Step 1: Setting up the notebook\n",
    "\n",
    "We begin by setting up all of the necessary bits required to run our notebook. To start that means loading all of the Python modules we will need.<br>\n",
    "This notebook was created and tested on an **ml.m4.xlarge** notebook instance."
   ]
  },
  {
   "cell_type": "markdown",
   "metadata": {},
   "source": [
    "Now we'll import the **Python** libraries we'll need."
   ]
  },
  {
   "cell_type": "code",
   "execution_count": 2,
   "metadata": {},
   "outputs": [],
   "source": [
    "import pandas as pd # High-performance, easy-to-use data structures and data analysis tools for the Python\n",
    "import numpy as np\n",
    "import warnings # Built-in exceptions that represent warning categories\n",
    "import matplotlib.pyplot as plt # Python 2D plotting library which produces publication quality figures in a variety of hardcopy formats and interactive environments \n",
    "import seaborn as sns\n",
    "from scipy import stats\n",
    "import sklearn.preprocessing\n",
    "# from keras.preprocessing.sequence import TimeseriesGenerator\n",
    "\n",
    "# from keras.models import Sequential\n",
    "# from keras import layers\n",
    "# from keras.optimizers import Adam\n",
    "# from keras.models import Sequential\n",
    "# from keras.layers import LSTM\n",
    "# from keras.layers import Dense\n",
    "# from keras.layers import TimeDistributed\n",
    "# from keras.layers import Bidirectional"
   ]
  },
  {
   "cell_type": "markdown",
   "metadata": {},
   "source": [
    "\n",
    "Now we'll configure the **Notebook** with what we'll need to make the developing experience better."
   ]
  },
  {
   "cell_type": "code",
   "execution_count": 3,
   "metadata": {},
   "outputs": [],
   "source": [
    "pd.options.display.float_format = '{:,.2f}'.format # Configure the decimal display options for the notebook\n",
    "warnings.filterwarnings('ignore') # Du=isable the notebook warnings"
   ]
  },
  {
   "cell_type": "markdown",
   "metadata": {},
   "source": [
    "## Step 2: Downloading the data\n",
    "\n",
    "The dataset we are going to use is very popular among researchers in Natural Language Processing, usually referred to as the [IMDb dataset](http://ai.stanford.edu/~amaas/data/sentiment/). It consists of movie reviews from the website [imdb.com](http://www.imdb.com/), each labeled as either '**pos**itive', if the reviewer enjoyed the film, or '**neg**ative' otherwise.\n",
    "\n",
    "> Maas, Andrew L., et al. [Learning Word Vectors for Sentiment Analysis](http://ai.stanford.edu/~amaas/data/sentiment/). In _Proceedings of the 49th Annual Meeting of the Association for Computational Linguistics: Human Language Technologies_. Association for Computational Linguistics, 2011.\n",
    "\n",
    "We begin by using some Jupyter Notebook magic to download and extract the dataset."
   ]
  },
  {
   "cell_type": "code",
   "execution_count": 4,
   "metadata": {},
   "outputs": [
    {
     "name": "stdout",
     "output_type": "stream",
     "text": [
      "--2019-08-04 23:24:31--  https://investment-and-trading-udacity.s3-us-west-2.amazonaws.com/JPM+2009-2019.csv\n",
      "Resolving investment-and-trading-udacity.s3-us-west-2.amazonaws.com (investment-and-trading-udacity.s3-us-west-2.amazonaws.com)... 52.218.209.209\n",
      "Connecting to investment-and-trading-udacity.s3-us-west-2.amazonaws.com (investment-and-trading-udacity.s3-us-west-2.amazonaws.com)|52.218.209.209|:443... connected.\n",
      "HTTP request sent, awaiting response... 200 OK\n",
      "Length: 187676 (183K) [text/csv]\n",
      "Saving to: ‘../data/raw/JPM+2009-2019.csv’\n",
      "\n",
      "../data/raw/JPM+200 100%[===================>] 183.28K   894KB/s    in 0.2s    \n",
      "\n",
      "2019-08-04 23:24:32 (894 KB/s) - ‘../data/raw/JPM+2009-2019.csv’ saved [187676/187676]\n",
      "\n"
     ]
    }
   ],
   "source": [
    "# Download information from a s3 bucket overwritten previous files\n",
    "!wget https://investment-and-trading-udacity.s3-us-west-2.amazonaws.com/JPM+2009-2019.csv -O ../data/raw/JPM+2009-2019.csv"
   ]
  },
  {
   "cell_type": "code",
   "execution_count": 5,
   "metadata": {},
   "outputs": [],
   "source": [
    "# Load the download information into a pandas dataframe\n",
    "stock_data = pd.read_csv('../data/raw/JPM+2009-2019.csv') "
   ]
  },
  {
   "cell_type": "markdown",
   "metadata": {},
   "source": [
    "## Step 3: Dataset Exploration and Visualization\n",
    "\n",
    "The data we have downloaded is split into various files, each of which contains a single review. It will be much easier going forward if we combine these individual files into two large files, one for training and one for testing."
   ]
  },
  {
   "cell_type": "code",
   "execution_count": 6,
   "metadata": {},
   "outputs": [
    {
     "name": "stdout",
     "output_type": "stream",
     "text": [
      "Dataset dimensions: (2654, 7)\n"
     ]
    }
   ],
   "source": [
    "print('Dataset dimensions: {}'.format(stock_data.shape))"
   ]
  },
  {
   "cell_type": "code",
   "execution_count": 7,
   "metadata": {},
   "outputs": [
    {
     "name": "stdout",
     "output_type": "stream",
     "text": [
      "Minimun date: 2009-01-02 / Maximun date: 2019-07-19\n"
     ]
    }
   ],
   "source": [
    "print('Minimun date: {} / Maximun date: {}'.format(stock_data.Date.min(), stock_data.Date.max()))"
   ]
  },
  {
   "cell_type": "code",
   "execution_count": 8,
   "metadata": {},
   "outputs": [
    {
     "name": "stdout",
     "output_type": "stream",
     "text": [
      "Dataset Information... \n",
      "\n",
      "<class 'pandas.core.frame.DataFrame'>\n",
      "RangeIndex: 2654 entries, 0 to 2653\n",
      "Data columns (total 7 columns):\n",
      "Date         2654 non-null object\n",
      "Open         2654 non-null float64\n",
      "High         2654 non-null float64\n",
      "Low          2654 non-null float64\n",
      "Close        2654 non-null float64\n",
      "Adj Close    2654 non-null float64\n",
      "Volume       2654 non-null int64\n",
      "dtypes: float64(5), int64(1), object(1)\n",
      "memory usage: 145.2+ KB\n"
     ]
    }
   ],
   "source": [
    "print('Dataset Information...', '\\n')\n",
    "stock_data.info()"
   ]
  },
  {
   "cell_type": "code",
   "execution_count": 9,
   "metadata": {},
   "outputs": [
    {
     "name": "stdout",
     "output_type": "stream",
     "text": [
      "Summary of the first rows of the stock market dataset... \n",
      "\n"
     ]
    },
    {
     "data": {
      "text/html": [
       "<div>\n",
       "<style scoped>\n",
       "    .dataframe tbody tr th:only-of-type {\n",
       "        vertical-align: middle;\n",
       "    }\n",
       "\n",
       "    .dataframe tbody tr th {\n",
       "        vertical-align: top;\n",
       "    }\n",
       "\n",
       "    .dataframe thead th {\n",
       "        text-align: right;\n",
       "    }\n",
       "</style>\n",
       "<table border=\"1\" class=\"dataframe\">\n",
       "  <thead>\n",
       "    <tr style=\"text-align: right;\">\n",
       "      <th></th>\n",
       "      <th>Date</th>\n",
       "      <th>Open</th>\n",
       "      <th>High</th>\n",
       "      <th>Low</th>\n",
       "      <th>Close</th>\n",
       "      <th>Adj Close</th>\n",
       "      <th>Volume</th>\n",
       "    </tr>\n",
       "  </thead>\n",
       "  <tbody>\n",
       "    <tr>\n",
       "      <th>0</th>\n",
       "      <td>2009-01-02</td>\n",
       "      <td>31.19</td>\n",
       "      <td>31.64</td>\n",
       "      <td>30.47</td>\n",
       "      <td>31.35</td>\n",
       "      <td>24.56</td>\n",
       "      <td>32494900</td>\n",
       "    </tr>\n",
       "    <tr>\n",
       "      <th>1</th>\n",
       "      <td>2009-01-05</td>\n",
       "      <td>30.73</td>\n",
       "      <td>30.77</td>\n",
       "      <td>29.08</td>\n",
       "      <td>29.25</td>\n",
       "      <td>22.92</td>\n",
       "      <td>44069400</td>\n",
       "    </tr>\n",
       "    <tr>\n",
       "      <th>2</th>\n",
       "      <td>2009-01-06</td>\n",
       "      <td>29.79</td>\n",
       "      <td>30.42</td>\n",
       "      <td>29.51</td>\n",
       "      <td>29.88</td>\n",
       "      <td>23.41</td>\n",
       "      <td>44216300</td>\n",
       "    </tr>\n",
       "    <tr>\n",
       "      <th>3</th>\n",
       "      <td>2009-01-07</td>\n",
       "      <td>29.15</td>\n",
       "      <td>29.40</td>\n",
       "      <td>28.00</td>\n",
       "      <td>28.09</td>\n",
       "      <td>22.01</td>\n",
       "      <td>42156500</td>\n",
       "    </tr>\n",
       "    <tr>\n",
       "      <th>4</th>\n",
       "      <td>2009-01-08</td>\n",
       "      <td>27.90</td>\n",
       "      <td>27.95</td>\n",
       "      <td>26.86</td>\n",
       "      <td>27.22</td>\n",
       "      <td>21.33</td>\n",
       "      <td>52075800</td>\n",
       "    </tr>\n",
       "  </tbody>\n",
       "</table>\n",
       "</div>"
      ],
      "text/plain": [
       "         Date  Open  High   Low  Close  Adj Close    Volume\n",
       "0  2009-01-02 31.19 31.64 30.47  31.35      24.56  32494900\n",
       "1  2009-01-05 30.73 30.77 29.08  29.25      22.92  44069400\n",
       "2  2009-01-06 29.79 30.42 29.51  29.88      23.41  44216300\n",
       "3  2009-01-07 29.15 29.40 28.00  28.09      22.01  42156500\n",
       "4  2009-01-08 27.90 27.95 26.86  27.22      21.33  52075800"
      ]
     },
     "execution_count": 9,
     "metadata": {},
     "output_type": "execute_result"
    }
   ],
   "source": [
    "print('Summary of the first rows of the stock market dataset...', '\\n')\n",
    "stock_data.head()"
   ]
  },
  {
   "cell_type": "code",
   "execution_count": 10,
   "metadata": {},
   "outputs": [
    {
     "name": "stdout",
     "output_type": "stream",
     "text": [
      "Statistical analysis for stock market dataset... \n",
      "\n"
     ]
    },
    {
     "data": {
      "text/html": [
       "<div>\n",
       "<style scoped>\n",
       "    .dataframe tbody tr th:only-of-type {\n",
       "        vertical-align: middle;\n",
       "    }\n",
       "\n",
       "    .dataframe tbody tr th {\n",
       "        vertical-align: top;\n",
       "    }\n",
       "\n",
       "    .dataframe thead th {\n",
       "        text-align: right;\n",
       "    }\n",
       "</style>\n",
       "<table border=\"1\" class=\"dataframe\">\n",
       "  <thead>\n",
       "    <tr style=\"text-align: right;\">\n",
       "      <th></th>\n",
       "      <th>Open</th>\n",
       "      <th>High</th>\n",
       "      <th>Low</th>\n",
       "      <th>Close</th>\n",
       "      <th>Adj Close</th>\n",
       "      <th>Volume</th>\n",
       "    </tr>\n",
       "  </thead>\n",
       "  <tbody>\n",
       "    <tr>\n",
       "      <th>count</th>\n",
       "      <td>2,654.00</td>\n",
       "      <td>2,654.00</td>\n",
       "      <td>2,654.00</td>\n",
       "      <td>2,654.00</td>\n",
       "      <td>2,654.00</td>\n",
       "      <td>2,654.00</td>\n",
       "    </tr>\n",
       "    <tr>\n",
       "      <th>mean</th>\n",
       "      <td>62.13</td>\n",
       "      <td>62.72</td>\n",
       "      <td>61.53</td>\n",
       "      <td>62.13</td>\n",
       "      <td>55.72</td>\n",
       "      <td>26,770,442.20</td>\n",
       "    </tr>\n",
       "    <tr>\n",
       "      <th>std</th>\n",
       "      <td>25.80</td>\n",
       "      <td>25.91</td>\n",
       "      <td>25.69</td>\n",
       "      <td>25.79</td>\n",
       "      <td>27.44</td>\n",
       "      <td>21,861,503.66</td>\n",
       "    </tr>\n",
       "    <tr>\n",
       "      <th>min</th>\n",
       "      <td>15.37</td>\n",
       "      <td>17.29</td>\n",
       "      <td>14.96</td>\n",
       "      <td>15.90</td>\n",
       "      <td>12.46</td>\n",
       "      <td>3,680,000.00</td>\n",
       "    </tr>\n",
       "    <tr>\n",
       "      <th>25%</th>\n",
       "      <td>41.50</td>\n",
       "      <td>41.94</td>\n",
       "      <td>41.03</td>\n",
       "      <td>41.53</td>\n",
       "      <td>33.33</td>\n",
       "      <td>13,436,550.00</td>\n",
       "    </tr>\n",
       "    <tr>\n",
       "      <th>50%</th>\n",
       "      <td>56.62</td>\n",
       "      <td>57.00</td>\n",
       "      <td>56.14</td>\n",
       "      <td>56.67</td>\n",
       "      <td>49.27</td>\n",
       "      <td>19,304,750.00</td>\n",
       "    </tr>\n",
       "    <tr>\n",
       "      <th>75%</th>\n",
       "      <td>78.75</td>\n",
       "      <td>79.44</td>\n",
       "      <td>78.30</td>\n",
       "      <td>79.25</td>\n",
       "      <td>73.62</td>\n",
       "      <td>32,481,600.00</td>\n",
       "    </tr>\n",
       "    <tr>\n",
       "      <th>max</th>\n",
       "      <td>119.13</td>\n",
       "      <td>119.33</td>\n",
       "      <td>118.08</td>\n",
       "      <td>118.77</td>\n",
       "      <td>115.30</td>\n",
       "      <td>217,294,200.00</td>\n",
       "    </tr>\n",
       "  </tbody>\n",
       "</table>\n",
       "</div>"
      ],
      "text/plain": [
       "          Open     High      Low    Close  Adj Close         Volume\n",
       "count 2,654.00 2,654.00 2,654.00 2,654.00   2,654.00       2,654.00\n",
       "mean     62.13    62.72    61.53    62.13      55.72  26,770,442.20\n",
       "std      25.80    25.91    25.69    25.79      27.44  21,861,503.66\n",
       "min      15.37    17.29    14.96    15.90      12.46   3,680,000.00\n",
       "25%      41.50    41.94    41.03    41.53      33.33  13,436,550.00\n",
       "50%      56.62    57.00    56.14    56.67      49.27  19,304,750.00\n",
       "75%      78.75    79.44    78.30    79.25      73.62  32,481,600.00\n",
       "max     119.13   119.33   118.08   118.77     115.30 217,294,200.00"
      ]
     },
     "execution_count": 10,
     "metadata": {},
     "output_type": "execute_result"
    }
   ],
   "source": [
    "print('Statistical analysis for stock market dataset...', '\\n')\n",
    "stock_data.describe()"
   ]
  },
  {
   "cell_type": "code",
   "execution_count": 11,
   "metadata": {},
   "outputs": [
    {
     "name": "stdout",
     "output_type": "stream",
     "text": [
      "Data integrity validation... \n",
      "\n"
     ]
    },
    {
     "data": {
      "text/plain": [
       "Date         0\n",
       "Open         0\n",
       "High         0\n",
       "Low          0\n",
       "Close        0\n",
       "Adj Close    0\n",
       "Volume       0\n",
       "dtype: int64"
      ]
     },
     "execution_count": 11,
     "metadata": {},
     "output_type": "execute_result"
    }
   ],
   "source": [
    "print('Data integrity validation...', '\\n')\n",
    "stock_data.isnull().sum()"
   ]
  },
  {
   "cell_type": "code",
   "execution_count": 12,
   "metadata": {},
   "outputs": [
    {
     "data": {
      "image/png": "[encoded data removed]",
      "text/plain": [
       "<Figure size 720x288 with 1 Axes>"
      ]
     },
     "metadata": {},
     "output_type": "display_data"
    }
   ],
   "source": [
    "plt.figure(figsize = (10,4))\n",
    "plt.plot(range(stock_data.shape[0]), stock_data['Close'])\n",
    "plt.xticks(range(0, stock_data.shape[0], 500), stock_data['Date'].loc[::500], rotation = 45, fontsize = 8)\n",
    "plt.xlabel('Date', fontsize = 14)\n",
    "plt.ylabel('Close Price',fontsize = 14)\n",
    "plt.show()"
   ]
  },
  {
   "cell_type": "code",
   "execution_count": 13,
   "metadata": {},
   "outputs": [
    {
     "data": {
      "image/png": "[encoded data removed]",
      "text/plain": [
       "<Figure size 720x288 with 1 Axes>"
      ]
     },
     "metadata": {},
     "output_type": "display_data"
    }
   ],
   "source": [
    "plt.figure(figsize = (10,4))\n",
    "plt.scatter(stock_data.Close, stock_data.Volume, alpha = 0.2)\n",
    "plt.xlabel('Volume', fontsize = 14)\n",
    "plt.ylabel('Close Price',fontsize = 14)\n",
    "plt.show()"
   ]
  },
  {
   "cell_type": "code",
   "execution_count": 14,
   "metadata": {},
   "outputs": [
    {
     "data": {
      "image/png": "[encoded data removed]",
      "text/plain": [
       "<Figure size 720x288 with 1 Axes>"
      ]
     },
     "metadata": {},
     "output_type": "display_data"
    }
   ],
   "source": [
    "plt.figure(figsize = (10,4))\n",
    "plt.hist(stock_data.Volume, bins = 50, alpha = 0.85)\n",
    "plt.xlabel('Volume', fontsize = 14)\n",
    "plt.ylabel('Freq',fontsize = 14)\n",
    "plt.show()"
   ]
  },
  {
   "cell_type": "markdown",
   "metadata": {},
   "source": [
    "## Step 4: Preprocessing the data / Feature Engineering\n",
    "\n",
    "Now that we have our training and testing datasets merged and ready to use, we need to start processing the raw data into something that will be useable by our machine learning algorithm. To begin with, we remove any html formatting that may appear in the reviews and perform some standard natural language processing in order to homogenize the data."
   ]
  },
  {
   "cell_type": "code",
   "execution_count": 15,
   "metadata": {},
   "outputs": [],
   "source": [
    "def calculate_diff(df, list_inputs, list_offsets, prefix):\n",
    "    '''Calculate multiple features based on the difference from previous data'''\n",
    "    for feat in list_inputs:\n",
    "        for offset in list_offsets:\n",
    "            df[str(prefix) +'_'+ str(offset)] = df[feat].diff(offset)\n",
    "    return df"
   ]
  },
  {
   "cell_type": "code",
   "execution_count": 16,
   "metadata": {},
   "outputs": [],
   "source": [
    "stock_data_process = calculate_diff(stock_data, list_inputs = ['Volume'], list_offsets = [5,10,20,40,80,160], prefix = 'VDiff')"
   ]
  },
  {
   "cell_type": "code",
   "execution_count": 17,
   "metadata": {},
   "outputs": [
    {
     "data": {
      "text/html": [
       "<div>\n",
       "<style scoped>\n",
       "    .dataframe tbody tr th:only-of-type {\n",
       "        vertical-align: middle;\n",
       "    }\n",
       "\n",
       "    .dataframe tbody tr th {\n",
       "        vertical-align: top;\n",
       "    }\n",
       "\n",
       "    .dataframe thead th {\n",
       "        text-align: right;\n",
       "    }\n",
       "</style>\n",
       "<table border=\"1\" class=\"dataframe\">\n",
       "  <thead>\n",
       "    <tr style=\"text-align: right;\">\n",
       "      <th></th>\n",
       "      <th>Date</th>\n",
       "      <th>Open</th>\n",
       "      <th>High</th>\n",
       "      <th>Low</th>\n",
       "      <th>Close</th>\n",
       "      <th>Adj Close</th>\n",
       "      <th>Volume</th>\n",
       "      <th>VDiff_5</th>\n",
       "      <th>VDiff_10</th>\n",
       "      <th>VDiff_20</th>\n",
       "      <th>VDiff_40</th>\n",
       "      <th>VDiff_80</th>\n",
       "      <th>VDiff_160</th>\n",
       "    </tr>\n",
       "  </thead>\n",
       "  <tbody>\n",
       "    <tr>\n",
       "      <th>0</th>\n",
       "      <td>2009-01-02</td>\n",
       "      <td>31.19</td>\n",
       "      <td>31.64</td>\n",
       "      <td>30.47</td>\n",
       "      <td>31.35</td>\n",
       "      <td>24.56</td>\n",
       "      <td>32494900</td>\n",
       "      <td>nan</td>\n",
       "      <td>nan</td>\n",
       "      <td>nan</td>\n",
       "      <td>nan</td>\n",
       "      <td>nan</td>\n",
       "      <td>nan</td>\n",
       "    </tr>\n",
       "    <tr>\n",
       "      <th>1</th>\n",
       "      <td>2009-01-05</td>\n",
       "      <td>30.73</td>\n",
       "      <td>30.77</td>\n",
       "      <td>29.08</td>\n",
       "      <td>29.25</td>\n",
       "      <td>22.92</td>\n",
       "      <td>44069400</td>\n",
       "      <td>nan</td>\n",
       "      <td>nan</td>\n",
       "      <td>nan</td>\n",
       "      <td>nan</td>\n",
       "      <td>nan</td>\n",
       "      <td>nan</td>\n",
       "    </tr>\n",
       "    <tr>\n",
       "      <th>2</th>\n",
       "      <td>2009-01-06</td>\n",
       "      <td>29.79</td>\n",
       "      <td>30.42</td>\n",
       "      <td>29.51</td>\n",
       "      <td>29.88</td>\n",
       "      <td>23.41</td>\n",
       "      <td>44216300</td>\n",
       "      <td>nan</td>\n",
       "      <td>nan</td>\n",
       "      <td>nan</td>\n",
       "      <td>nan</td>\n",
       "      <td>nan</td>\n",
       "      <td>nan</td>\n",
       "    </tr>\n",
       "    <tr>\n",
       "      <th>3</th>\n",
       "      <td>2009-01-07</td>\n",
       "      <td>29.15</td>\n",
       "      <td>29.40</td>\n",
       "      <td>28.00</td>\n",
       "      <td>28.09</td>\n",
       "      <td>22.01</td>\n",
       "      <td>42156500</td>\n",
       "      <td>nan</td>\n",
       "      <td>nan</td>\n",
       "      <td>nan</td>\n",
       "      <td>nan</td>\n",
       "      <td>nan</td>\n",
       "      <td>nan</td>\n",
       "    </tr>\n",
       "    <tr>\n",
       "      <th>4</th>\n",
       "      <td>2009-01-08</td>\n",
       "      <td>27.90</td>\n",
       "      <td>27.95</td>\n",
       "      <td>26.86</td>\n",
       "      <td>27.22</td>\n",
       "      <td>21.33</td>\n",
       "      <td>52075800</td>\n",
       "      <td>nan</td>\n",
       "      <td>nan</td>\n",
       "      <td>nan</td>\n",
       "      <td>nan</td>\n",
       "      <td>nan</td>\n",
       "      <td>nan</td>\n",
       "    </tr>\n",
       "  </tbody>\n",
       "</table>\n",
       "</div>"
      ],
      "text/plain": [
       "         Date  Open  High   Low  Close  Adj Close    Volume  VDiff_5  \\\n",
       "0  2009-01-02 31.19 31.64 30.47  31.35      24.56  32494900      nan   \n",
       "1  2009-01-05 30.73 30.77 29.08  29.25      22.92  44069400      nan   \n",
       "2  2009-01-06 29.79 30.42 29.51  29.88      23.41  44216300      nan   \n",
       "3  2009-01-07 29.15 29.40 28.00  28.09      22.01  42156500      nan   \n",
       "4  2009-01-08 27.90 27.95 26.86  27.22      21.33  52075800      nan   \n",
       "\n",
       "   VDiff_10  VDiff_20  VDiff_40  VDiff_80  VDiff_160  \n",
       "0       nan       nan       nan       nan        nan  \n",
       "1       nan       nan       nan       nan        nan  \n",
       "2       nan       nan       nan       nan        nan  \n",
       "3       nan       nan       nan       nan        nan  \n",
       "4       nan       nan       nan       nan        nan  "
      ]
     },
     "execution_count": 17,
     "metadata": {},
     "output_type": "execute_result"
    }
   ],
   "source": [
    "stock_data_process.head()"
   ]
  },
  {
   "cell_type": "code",
   "execution_count": 18,
   "metadata": {},
   "outputs": [],
   "source": [
    "def calculate_me(df, list_inputs, list_offsets, prefix):\n",
    "    '''Calculate the moving average for the selected variable'''\n",
    "    for feat in list_inputs:\n",
    "        for offset in list_offsets:\n",
    "            df[str(prefix) +'_'+ str(offset)] = df[feat].rolling(offset).mean()\n",
    "    return df"
   ]
  },
  {
   "cell_type": "code",
   "execution_count": 19,
   "metadata": {},
   "outputs": [],
   "source": [
    "stock_data_process = calculate_me(stock_data_process, list_inputs = ['Close'], list_offsets = [5,10,20,40,80,160], prefix = 'MA')"
   ]
  },
  {
   "cell_type": "code",
   "execution_count": 20,
   "metadata": {},
   "outputs": [
    {
     "data": {
      "text/html": [
       "<div>\n",
       "<style scoped>\n",
       "    .dataframe tbody tr th:only-of-type {\n",
       "        vertical-align: middle;\n",
       "    }\n",
       "\n",
       "    .dataframe tbody tr th {\n",
       "        vertical-align: top;\n",
       "    }\n",
       "\n",
       "    .dataframe thead th {\n",
       "        text-align: right;\n",
       "    }\n",
       "</style>\n",
       "<table border=\"1\" class=\"dataframe\">\n",
       "  <thead>\n",
       "    <tr style=\"text-align: right;\">\n",
       "      <th></th>\n",
       "      <th>Date</th>\n",
       "      <th>Open</th>\n",
       "      <th>High</th>\n",
       "      <th>Low</th>\n",
       "      <th>Close</th>\n",
       "      <th>Adj Close</th>\n",
       "      <th>Volume</th>\n",
       "      <th>VDiff_5</th>\n",
       "      <th>VDiff_10</th>\n",
       "      <th>VDiff_20</th>\n",
       "      <th>VDiff_40</th>\n",
       "      <th>VDiff_80</th>\n",
       "      <th>VDiff_160</th>\n",
       "      <th>MA_5</th>\n",
       "      <th>MA_10</th>\n",
       "      <th>MA_20</th>\n",
       "      <th>MA_40</th>\n",
       "      <th>MA_80</th>\n",
       "      <th>MA_160</th>\n",
       "    </tr>\n",
       "  </thead>\n",
       "  <tbody>\n",
       "    <tr>\n",
       "      <th>0</th>\n",
       "      <td>2009-01-02</td>\n",
       "      <td>31.19</td>\n",
       "      <td>31.64</td>\n",
       "      <td>30.47</td>\n",
       "      <td>31.35</td>\n",
       "      <td>24.56</td>\n",
       "      <td>32494900</td>\n",
       "      <td>nan</td>\n",
       "      <td>nan</td>\n",
       "      <td>nan</td>\n",
       "      <td>nan</td>\n",
       "      <td>nan</td>\n",
       "      <td>nan</td>\n",
       "      <td>nan</td>\n",
       "      <td>nan</td>\n",
       "      <td>nan</td>\n",
       "      <td>nan</td>\n",
       "      <td>nan</td>\n",
       "      <td>nan</td>\n",
       "    </tr>\n",
       "    <tr>\n",
       "      <th>1</th>\n",
       "      <td>2009-01-05</td>\n",
       "      <td>30.73</td>\n",
       "      <td>30.77</td>\n",
       "      <td>29.08</td>\n",
       "      <td>29.25</td>\n",
       "      <td>22.92</td>\n",
       "      <td>44069400</td>\n",
       "      <td>nan</td>\n",
       "      <td>nan</td>\n",
       "      <td>nan</td>\n",
       "      <td>nan</td>\n",
       "      <td>nan</td>\n",
       "      <td>nan</td>\n",
       "      <td>nan</td>\n",
       "      <td>nan</td>\n",
       "      <td>nan</td>\n",
       "      <td>nan</td>\n",
       "      <td>nan</td>\n",
       "      <td>nan</td>\n",
       "    </tr>\n",
       "    <tr>\n",
       "      <th>2</th>\n",
       "      <td>2009-01-06</td>\n",
       "      <td>29.79</td>\n",
       "      <td>30.42</td>\n",
       "      <td>29.51</td>\n",
       "      <td>29.88</td>\n",
       "      <td>23.41</td>\n",
       "      <td>44216300</td>\n",
       "      <td>nan</td>\n",
       "      <td>nan</td>\n",
       "      <td>nan</td>\n",
       "      <td>nan</td>\n",
       "      <td>nan</td>\n",
       "      <td>nan</td>\n",
       "      <td>nan</td>\n",
       "      <td>nan</td>\n",
       "      <td>nan</td>\n",
       "      <td>nan</td>\n",
       "      <td>nan</td>\n",
       "      <td>nan</td>\n",
       "    </tr>\n",
       "    <tr>\n",
       "      <th>3</th>\n",
       "      <td>2009-01-07</td>\n",
       "      <td>29.15</td>\n",
       "      <td>29.40</td>\n",
       "      <td>28.00</td>\n",
       "      <td>28.09</td>\n",
       "      <td>22.01</td>\n",
       "      <td>42156500</td>\n",
       "      <td>nan</td>\n",
       "      <td>nan</td>\n",
       "      <td>nan</td>\n",
       "      <td>nan</td>\n",
       "      <td>nan</td>\n",
       "      <td>nan</td>\n",
       "      <td>nan</td>\n",
       "      <td>nan</td>\n",
       "      <td>nan</td>\n",
       "      <td>nan</td>\n",
       "      <td>nan</td>\n",
       "      <td>nan</td>\n",
       "    </tr>\n",
       "    <tr>\n",
       "      <th>4</th>\n",
       "      <td>2009-01-08</td>\n",
       "      <td>27.90</td>\n",
       "      <td>27.95</td>\n",
       "      <td>26.86</td>\n",
       "      <td>27.22</td>\n",
       "      <td>21.33</td>\n",
       "      <td>52075800</td>\n",
       "      <td>nan</td>\n",
       "      <td>nan</td>\n",
       "      <td>nan</td>\n",
       "      <td>nan</td>\n",
       "      <td>nan</td>\n",
       "      <td>nan</td>\n",
       "      <td>29.16</td>\n",
       "      <td>nan</td>\n",
       "      <td>nan</td>\n",
       "      <td>nan</td>\n",
       "      <td>nan</td>\n",
       "      <td>nan</td>\n",
       "    </tr>\n",
       "  </tbody>\n",
       "</table>\n",
       "</div>"
      ],
      "text/plain": [
       "         Date  Open  High   Low  Close  Adj Close    Volume  VDiff_5  \\\n",
       "0  2009-01-02 31.19 31.64 30.47  31.35      24.56  32494900      nan   \n",
       "1  2009-01-05 30.73 30.77 29.08  29.25      22.92  44069400      nan   \n",
       "2  2009-01-06 29.79 30.42 29.51  29.88      23.41  44216300      nan   \n",
       "3  2009-01-07 29.15 29.40 28.00  28.09      22.01  42156500      nan   \n",
       "4  2009-01-08 27.90 27.95 26.86  27.22      21.33  52075800      nan   \n",
       "\n",
       "   VDiff_10  VDiff_20  VDiff_40  VDiff_80  VDiff_160  MA_5  MA_10  MA_20  \\\n",
       "0       nan       nan       nan       nan        nan   nan    nan    nan   \n",
       "1       nan       nan       nan       nan        nan   nan    nan    nan   \n",
       "2       nan       nan       nan       nan        nan   nan    nan    nan   \n",
       "3       nan       nan       nan       nan        nan   nan    nan    nan   \n",
       "4       nan       nan       nan       nan        nan 29.16    nan    nan   \n",
       "\n",
       "   MA_40  MA_80  MA_160  \n",
       "0    nan    nan     nan  \n",
       "1    nan    nan     nan  \n",
       "2    nan    nan     nan  \n",
       "3    nan    nan     nan  \n",
       "4    nan    nan     nan  "
      ]
     },
     "execution_count": 20,
     "metadata": {},
     "output_type": "execute_result"
    }
   ],
   "source": [
    "stock_data_process.head()"
   ]
  },
  {
   "cell_type": "code",
   "execution_count": 21,
   "metadata": {},
   "outputs": [],
   "source": [
    "def calculate_ratios(df, numerators, denominators):\n",
    "    '''Calculate ratio of the selected variables'''\n",
    "    for num in numerators:\n",
    "        for den in denominators:\n",
    "            df[str(num) +'/'+str(den)] = df[num] / df[den]\n",
    "    return df\n"
   ]
  },
  {
   "cell_type": "code",
   "execution_count": 22,
   "metadata": {},
   "outputs": [],
   "source": [
    "stock_data_process = calculate_ratios(stock_data_process, numerators = ['Open'], denominators = ['Close'])"
   ]
  },
  {
   "cell_type": "code",
   "execution_count": 23,
   "metadata": {},
   "outputs": [
    {
     "data": {
      "text/html": [
       "<div>\n",
       "<style scoped>\n",
       "    .dataframe tbody tr th:only-of-type {\n",
       "        vertical-align: middle;\n",
       "    }\n",
       "\n",
       "    .dataframe tbody tr th {\n",
       "        vertical-align: top;\n",
       "    }\n",
       "\n",
       "    .dataframe thead th {\n",
       "        text-align: right;\n",
       "    }\n",
       "</style>\n",
       "<table border=\"1\" class=\"dataframe\">\n",
       "  <thead>\n",
       "    <tr style=\"text-align: right;\">\n",
       "      <th></th>\n",
       "      <th>Date</th>\n",
       "      <th>Open</th>\n",
       "      <th>High</th>\n",
       "      <th>Low</th>\n",
       "      <th>Close</th>\n",
       "      <th>Adj Close</th>\n",
       "      <th>Volume</th>\n",
       "      <th>VDiff_5</th>\n",
       "      <th>VDiff_10</th>\n",
       "      <th>VDiff_20</th>\n",
       "      <th>VDiff_40</th>\n",
       "      <th>VDiff_80</th>\n",
       "      <th>VDiff_160</th>\n",
       "      <th>MA_5</th>\n",
       "      <th>MA_10</th>\n",
       "      <th>MA_20</th>\n",
       "      <th>MA_40</th>\n",
       "      <th>MA_80</th>\n",
       "      <th>MA_160</th>\n",
       "      <th>Open/Close</th>\n",
       "    </tr>\n",
       "  </thead>\n",
       "  <tbody>\n",
       "    <tr>\n",
       "      <th>0</th>\n",
       "      <td>2009-01-02</td>\n",
       "      <td>31.19</td>\n",
       "      <td>31.64</td>\n",
       "      <td>30.47</td>\n",
       "      <td>31.35</td>\n",
       "      <td>24.56</td>\n",
       "      <td>32494900</td>\n",
       "      <td>nan</td>\n",
       "      <td>nan</td>\n",
       "      <td>nan</td>\n",
       "      <td>nan</td>\n",
       "      <td>nan</td>\n",
       "      <td>nan</td>\n",
       "      <td>nan</td>\n",
       "      <td>nan</td>\n",
       "      <td>nan</td>\n",
       "      <td>nan</td>\n",
       "      <td>nan</td>\n",
       "      <td>nan</td>\n",
       "      <td>0.99</td>\n",
       "    </tr>\n",
       "    <tr>\n",
       "      <th>1</th>\n",
       "      <td>2009-01-05</td>\n",
       "      <td>30.73</td>\n",
       "      <td>30.77</td>\n",
       "      <td>29.08</td>\n",
       "      <td>29.25</td>\n",
       "      <td>22.92</td>\n",
       "      <td>44069400</td>\n",
       "      <td>nan</td>\n",
       "      <td>nan</td>\n",
       "      <td>nan</td>\n",
       "      <td>nan</td>\n",
       "      <td>nan</td>\n",
       "      <td>nan</td>\n",
       "      <td>nan</td>\n",
       "      <td>nan</td>\n",
       "      <td>nan</td>\n",
       "      <td>nan</td>\n",
       "      <td>nan</td>\n",
       "      <td>nan</td>\n",
       "      <td>1.05</td>\n",
       "    </tr>\n",
       "    <tr>\n",
       "      <th>2</th>\n",
       "      <td>2009-01-06</td>\n",
       "      <td>29.79</td>\n",
       "      <td>30.42</td>\n",
       "      <td>29.51</td>\n",
       "      <td>29.88</td>\n",
       "      <td>23.41</td>\n",
       "      <td>44216300</td>\n",
       "      <td>nan</td>\n",
       "      <td>nan</td>\n",
       "      <td>nan</td>\n",
       "      <td>nan</td>\n",
       "      <td>nan</td>\n",
       "      <td>nan</td>\n",
       "      <td>nan</td>\n",
       "      <td>nan</td>\n",
       "      <td>nan</td>\n",
       "      <td>nan</td>\n",
       "      <td>nan</td>\n",
       "      <td>nan</td>\n",
       "      <td>1.00</td>\n",
       "    </tr>\n",
       "    <tr>\n",
       "      <th>3</th>\n",
       "      <td>2009-01-07</td>\n",
       "      <td>29.15</td>\n",
       "      <td>29.40</td>\n",
       "      <td>28.00</td>\n",
       "      <td>28.09</td>\n",
       "      <td>22.01</td>\n",
       "      <td>42156500</td>\n",
       "      <td>nan</td>\n",
       "      <td>nan</td>\n",
       "      <td>nan</td>\n",
       "      <td>nan</td>\n",
       "      <td>nan</td>\n",
       "      <td>nan</td>\n",
       "      <td>nan</td>\n",
       "      <td>nan</td>\n",
       "      <td>nan</td>\n",
       "      <td>nan</td>\n",
       "      <td>nan</td>\n",
       "      <td>nan</td>\n",
       "      <td>1.04</td>\n",
       "    </tr>\n",
       "    <tr>\n",
       "      <th>4</th>\n",
       "      <td>2009-01-08</td>\n",
       "      <td>27.90</td>\n",
       "      <td>27.95</td>\n",
       "      <td>26.86</td>\n",
       "      <td>27.22</td>\n",
       "      <td>21.33</td>\n",
       "      <td>52075800</td>\n",
       "      <td>nan</td>\n",
       "      <td>nan</td>\n",
       "      <td>nan</td>\n",
       "      <td>nan</td>\n",
       "      <td>nan</td>\n",
       "      <td>nan</td>\n",
       "      <td>29.16</td>\n",
       "      <td>nan</td>\n",
       "      <td>nan</td>\n",
       "      <td>nan</td>\n",
       "      <td>nan</td>\n",
       "      <td>nan</td>\n",
       "      <td>1.02</td>\n",
       "    </tr>\n",
       "    <tr>\n",
       "      <th>5</th>\n",
       "      <td>2009-01-09</td>\n",
       "      <td>27.55</td>\n",
       "      <td>27.55</td>\n",
       "      <td>25.81</td>\n",
       "      <td>25.97</td>\n",
       "      <td>20.35</td>\n",
       "      <td>42597500</td>\n",
       "      <td>10,102,600.00</td>\n",
       "      <td>nan</td>\n",
       "      <td>nan</td>\n",
       "      <td>nan</td>\n",
       "      <td>nan</td>\n",
       "      <td>nan</td>\n",
       "      <td>28.08</td>\n",
       "      <td>nan</td>\n",
       "      <td>nan</td>\n",
       "      <td>nan</td>\n",
       "      <td>nan</td>\n",
       "      <td>nan</td>\n",
       "      <td>1.06</td>\n",
       "    </tr>\n",
       "    <tr>\n",
       "      <th>6</th>\n",
       "      <td>2009-01-12</td>\n",
       "      <td>25.92</td>\n",
       "      <td>26.15</td>\n",
       "      <td>24.50</td>\n",
       "      <td>24.91</td>\n",
       "      <td>19.52</td>\n",
       "      <td>59360000</td>\n",
       "      <td>15,290,600.00</td>\n",
       "      <td>nan</td>\n",
       "      <td>nan</td>\n",
       "      <td>nan</td>\n",
       "      <td>nan</td>\n",
       "      <td>nan</td>\n",
       "      <td>27.21</td>\n",
       "      <td>nan</td>\n",
       "      <td>nan</td>\n",
       "      <td>nan</td>\n",
       "      <td>nan</td>\n",
       "      <td>nan</td>\n",
       "      <td>1.04</td>\n",
       "    </tr>\n",
       "    <tr>\n",
       "      <th>7</th>\n",
       "      <td>2009-01-13</td>\n",
       "      <td>25.21</td>\n",
       "      <td>26.59</td>\n",
       "      <td>24.27</td>\n",
       "      <td>26.35</td>\n",
       "      <td>20.65</td>\n",
       "      <td>73422800</td>\n",
       "      <td>29,206,500.00</td>\n",
       "      <td>nan</td>\n",
       "      <td>nan</td>\n",
       "      <td>nan</td>\n",
       "      <td>nan</td>\n",
       "      <td>nan</td>\n",
       "      <td>26.51</td>\n",
       "      <td>nan</td>\n",
       "      <td>nan</td>\n",
       "      <td>nan</td>\n",
       "      <td>nan</td>\n",
       "      <td>nan</td>\n",
       "      <td>0.96</td>\n",
       "    </tr>\n",
       "    <tr>\n",
       "      <th>8</th>\n",
       "      <td>2009-01-14</td>\n",
       "      <td>25.59</td>\n",
       "      <td>26.28</td>\n",
       "      <td>24.76</td>\n",
       "      <td>25.91</td>\n",
       "      <td>20.30</td>\n",
       "      <td>73907300</td>\n",
       "      <td>31,750,800.00</td>\n",
       "      <td>nan</td>\n",
       "      <td>nan</td>\n",
       "      <td>nan</td>\n",
       "      <td>nan</td>\n",
       "      <td>nan</td>\n",
       "      <td>26.07</td>\n",
       "      <td>nan</td>\n",
       "      <td>nan</td>\n",
       "      <td>nan</td>\n",
       "      <td>nan</td>\n",
       "      <td>nan</td>\n",
       "      <td>0.99</td>\n",
       "    </tr>\n",
       "    <tr>\n",
       "      <th>9</th>\n",
       "      <td>2009-01-15</td>\n",
       "      <td>26.54</td>\n",
       "      <td>27.05</td>\n",
       "      <td>23.76</td>\n",
       "      <td>24.34</td>\n",
       "      <td>19.07</td>\n",
       "      <td>136759300</td>\n",
       "      <td>84,683,500.00</td>\n",
       "      <td>nan</td>\n",
       "      <td>nan</td>\n",
       "      <td>nan</td>\n",
       "      <td>nan</td>\n",
       "      <td>nan</td>\n",
       "      <td>25.50</td>\n",
       "      <td>27.33</td>\n",
       "      <td>nan</td>\n",
       "      <td>nan</td>\n",
       "      <td>nan</td>\n",
       "      <td>nan</td>\n",
       "      <td>1.09</td>\n",
       "    </tr>\n",
       "  </tbody>\n",
       "</table>\n",
       "</div>"
      ],
      "text/plain": [
       "         Date  Open  High   Low  Close  Adj Close     Volume       VDiff_5  \\\n",
       "0  2009-01-02 31.19 31.64 30.47  31.35      24.56   32494900           nan   \n",
       "1  2009-01-05 30.73 30.77 29.08  29.25      22.92   44069400           nan   \n",
       "2  2009-01-06 29.79 30.42 29.51  29.88      23.41   44216300           nan   \n",
       "3  2009-01-07 29.15 29.40 28.00  28.09      22.01   42156500           nan   \n",
       "4  2009-01-08 27.90 27.95 26.86  27.22      21.33   52075800           nan   \n",
       "5  2009-01-09 27.55 27.55 25.81  25.97      20.35   42597500 10,102,600.00   \n",
       "6  2009-01-12 25.92 26.15 24.50  24.91      19.52   59360000 15,290,600.00   \n",
       "7  2009-01-13 25.21 26.59 24.27  26.35      20.65   73422800 29,206,500.00   \n",
       "8  2009-01-14 25.59 26.28 24.76  25.91      20.30   73907300 31,750,800.00   \n",
       "9  2009-01-15 26.54 27.05 23.76  24.34      19.07  136759300 84,683,500.00   \n",
       "\n",
       "   VDiff_10  VDiff_20  VDiff_40  VDiff_80  VDiff_160  MA_5  MA_10  MA_20  \\\n",
       "0       nan       nan       nan       nan        nan   nan    nan    nan   \n",
       "1       nan       nan       nan       nan        nan   nan    nan    nan   \n",
       "2       nan       nan       nan       nan        nan   nan    nan    nan   \n",
       "3       nan       nan       nan       nan        nan   nan    nan    nan   \n",
       "4       nan       nan       nan       nan        nan 29.16    nan    nan   \n",
       "5       nan       nan       nan       nan        nan 28.08    nan    nan   \n",
       "6       nan       nan       nan       nan        nan 27.21    nan    nan   \n",
       "7       nan       nan       nan       nan        nan 26.51    nan    nan   \n",
       "8       nan       nan       nan       nan        nan 26.07    nan    nan   \n",
       "9       nan       nan       nan       nan        nan 25.50  27.33    nan   \n",
       "\n",
       "   MA_40  MA_80  MA_160  Open/Close  \n",
       "0    nan    nan     nan        0.99  \n",
       "1    nan    nan     nan        1.05  \n",
       "2    nan    nan     nan        1.00  \n",
       "3    nan    nan     nan        1.04  \n",
       "4    nan    nan     nan        1.02  \n",
       "5    nan    nan     nan        1.06  \n",
       "6    nan    nan     nan        1.04  \n",
       "7    nan    nan     nan        0.96  \n",
       "8    nan    nan     nan        0.99  \n",
       "9    nan    nan     nan        1.09  "
      ]
     },
     "execution_count": 23,
     "metadata": {},
     "output_type": "execute_result"
    }
   ],
   "source": [
    "stock_data_process.head(10)"
   ]
  },
  {
   "cell_type": "code",
   "execution_count": 24,
   "metadata": {},
   "outputs": [],
   "source": [
    "def remove_errors(df):\n",
    "    '''Remove NaNs from the dataset, created by the lag features'''\n",
    "    df = df.dropna()\n",
    "    return df"
   ]
  },
  {
   "cell_type": "code",
   "execution_count": 25,
   "metadata": {},
   "outputs": [],
   "source": [
    "stock_data_process = remove_errors(stock_data_process)"
   ]
  },
  {
   "cell_type": "code",
   "execution_count": 26,
   "metadata": {},
   "outputs": [],
   "source": [
    "def normalize_data(df, avoid_list, target):\n",
    "    '''Min-Max Scaler normalization function'''\n",
    "    temp = df.copy()\n",
    "    for feat in temp.columns:\n",
    "        if feat not in avoid_list:\n",
    "            min_max_scaler = sklearn.preprocessing.MinMaxScaler()\n",
    "            temp[feat] = min_max_scaler.fit_transform(temp[feat].values.reshape(-1,1))\n",
    "            if feat == target:\n",
    "                print('Saving scaler parameters for inverse calculations...')\n",
    "                scaler = min_max_scaler\n",
    "    print('Done...')\n",
    "    return temp, scaler"
   ]
  },
  {
   "cell_type": "code",
   "execution_count": 27,
   "metadata": {},
   "outputs": [
    {
     "name": "stdout",
     "output_type": "stream",
     "text": [
      "Saving scaler parameters for inverse calculations...\n",
      "Done...\n"
     ]
    }
   ],
   "source": [
    "avoid_list = ['Date']\n",
    "stock_data_normalized, scaler = normalize_data(stock_data_process, avoid_list = avoid_list, target = 'Close')"
   ]
  },
  {
   "cell_type": "code",
   "execution_count": 28,
   "metadata": {},
   "outputs": [
    {
     "data": {
      "text/html": [
       "<div>\n",
       "<style scoped>\n",
       "    .dataframe tbody tr th:only-of-type {\n",
       "        vertical-align: middle;\n",
       "    }\n",
       "\n",
       "    .dataframe tbody tr th {\n",
       "        vertical-align: top;\n",
       "    }\n",
       "\n",
       "    .dataframe thead th {\n",
       "        text-align: right;\n",
       "    }\n",
       "</style>\n",
       "<table border=\"1\" class=\"dataframe\">\n",
       "  <thead>\n",
       "    <tr style=\"text-align: right;\">\n",
       "      <th></th>\n",
       "      <th>Date</th>\n",
       "      <th>Open</th>\n",
       "      <th>High</th>\n",
       "      <th>Low</th>\n",
       "      <th>Close</th>\n",
       "      <th>Adj Close</th>\n",
       "      <th>Volume</th>\n",
       "      <th>VDiff_5</th>\n",
       "      <th>VDiff_10</th>\n",
       "      <th>VDiff_20</th>\n",
       "      <th>VDiff_40</th>\n",
       "      <th>VDiff_80</th>\n",
       "      <th>VDiff_160</th>\n",
       "      <th>MA_5</th>\n",
       "      <th>MA_10</th>\n",
       "      <th>MA_20</th>\n",
       "      <th>MA_40</th>\n",
       "      <th>MA_80</th>\n",
       "      <th>MA_160</th>\n",
       "      <th>Open/Close</th>\n",
       "    </tr>\n",
       "  </thead>\n",
       "  <tbody>\n",
       "    <tr>\n",
       "      <th>160</th>\n",
       "      <td>2009-08-21</td>\n",
       "      <td>0.16</td>\n",
       "      <td>0.16</td>\n",
       "      <td>0.16</td>\n",
       "      <td>0.17</td>\n",
       "      <td>0.12</td>\n",
       "      <td>0.18</td>\n",
       "      <td>0.43</td>\n",
       "      <td>0.44</td>\n",
       "      <td>0.54</td>\n",
       "      <td>0.49</td>\n",
       "      <td>0.44</td>\n",
       "      <td>0.62</td>\n",
       "      <td>0.15</td>\n",
       "      <td>0.14</td>\n",
       "      <td>0.12</td>\n",
       "      <td>0.07</td>\n",
       "      <td>0.05</td>\n",
       "      <td>0.00</td>\n",
       "      <td>0.41</td>\n",
       "    </tr>\n",
       "    <tr>\n",
       "      <th>161</th>\n",
       "      <td>2009-08-24</td>\n",
       "      <td>0.17</td>\n",
       "      <td>0.17</td>\n",
       "      <td>0.17</td>\n",
       "      <td>0.16</td>\n",
       "      <td>0.12</td>\n",
       "      <td>0.17</td>\n",
       "      <td>0.42</td>\n",
       "      <td>0.49</td>\n",
       "      <td>0.55</td>\n",
       "      <td>0.52</td>\n",
       "      <td>0.41</td>\n",
       "      <td>0.57</td>\n",
       "      <td>0.15</td>\n",
       "      <td>0.14</td>\n",
       "      <td>0.12</td>\n",
       "      <td>0.07</td>\n",
       "      <td>0.05</td>\n",
       "      <td>0.00</td>\n",
       "      <td>0.68</td>\n",
       "    </tr>\n",
       "    <tr>\n",
       "      <th>162</th>\n",
       "      <td>2009-08-25</td>\n",
       "      <td>0.17</td>\n",
       "      <td>0.17</td>\n",
       "      <td>0.17</td>\n",
       "      <td>0.17</td>\n",
       "      <td>0.12</td>\n",
       "      <td>0.15</td>\n",
       "      <td>0.44</td>\n",
       "      <td>0.45</td>\n",
       "      <td>0.54</td>\n",
       "      <td>0.53</td>\n",
       "      <td>0.47</td>\n",
       "      <td>0.56</td>\n",
       "      <td>0.16</td>\n",
       "      <td>0.15</td>\n",
       "      <td>0.12</td>\n",
       "      <td>0.08</td>\n",
       "      <td>0.06</td>\n",
       "      <td>0.00</td>\n",
       "      <td>0.51</td>\n",
       "    </tr>\n",
       "    <tr>\n",
       "      <th>163</th>\n",
       "      <td>2009-08-26</td>\n",
       "      <td>0.17</td>\n",
       "      <td>0.16</td>\n",
       "      <td>0.17</td>\n",
       "      <td>0.17</td>\n",
       "      <td>0.12</td>\n",
       "      <td>0.13</td>\n",
       "      <td>0.43</td>\n",
       "      <td>0.47</td>\n",
       "      <td>0.52</td>\n",
       "      <td>0.51</td>\n",
       "      <td>0.37</td>\n",
       "      <td>0.55</td>\n",
       "      <td>0.16</td>\n",
       "      <td>0.15</td>\n",
       "      <td>0.13</td>\n",
       "      <td>0.08</td>\n",
       "      <td>0.06</td>\n",
       "      <td>0.00</td>\n",
       "      <td>0.56</td>\n",
       "    </tr>\n",
       "    <tr>\n",
       "      <th>164</th>\n",
       "      <td>2009-08-27</td>\n",
       "      <td>0.16</td>\n",
       "      <td>0.16</td>\n",
       "      <td>0.16</td>\n",
       "      <td>0.17</td>\n",
       "      <td>0.12</td>\n",
       "      <td>0.12</td>\n",
       "      <td>0.42</td>\n",
       "      <td>0.47</td>\n",
       "      <td>0.49</td>\n",
       "      <td>0.51</td>\n",
       "      <td>0.46</td>\n",
       "      <td>0.51</td>\n",
       "      <td>0.16</td>\n",
       "      <td>0.15</td>\n",
       "      <td>0.13</td>\n",
       "      <td>0.08</td>\n",
       "      <td>0.06</td>\n",
       "      <td>0.00</td>\n",
       "      <td>0.48</td>\n",
       "    </tr>\n",
       "  </tbody>\n",
       "</table>\n",
       "</div>"
      ],
      "text/plain": [
       "           Date  Open  High  Low  Close  Adj Close  Volume  VDiff_5  VDiff_10  \\\n",
       "160  2009-08-21  0.16  0.16 0.16   0.17       0.12    0.18     0.43      0.44   \n",
       "161  2009-08-24  0.17  0.17 0.17   0.16       0.12    0.17     0.42      0.49   \n",
       "162  2009-08-25  0.17  0.17 0.17   0.17       0.12    0.15     0.44      0.45   \n",
       "163  2009-08-26  0.17  0.16 0.17   0.17       0.12    0.13     0.43      0.47   \n",
       "164  2009-08-27  0.16  0.16 0.16   0.17       0.12    0.12     0.42      0.47   \n",
       "\n",
       "     VDiff_20  VDiff_40  VDiff_80  VDiff_160  MA_5  MA_10  MA_20  MA_40  \\\n",
       "160      0.54      0.49      0.44       0.62  0.15   0.14   0.12   0.07   \n",
       "161      0.55      0.52      0.41       0.57  0.15   0.14   0.12   0.07   \n",
       "162      0.54      0.53      0.47       0.56  0.16   0.15   0.12   0.08   \n",
       "163      0.52      0.51      0.37       0.55  0.16   0.15   0.13   0.08   \n",
       "164      0.49      0.51      0.46       0.51  0.16   0.15   0.13   0.08   \n",
       "\n",
       "     MA_80  MA_160  Open/Close  \n",
       "160   0.05    0.00        0.41  \n",
       "161   0.05    0.00        0.68  \n",
       "162   0.06    0.00        0.51  \n",
       "163   0.06    0.00        0.56  \n",
       "164   0.06    0.00        0.48  "
      ]
     },
     "execution_count": 28,
     "metadata": {},
     "output_type": "execute_result"
    }
   ],
   "source": [
    "stock_data_normalized.head()"
   ]
  },
  {
   "cell_type": "markdown",
   "metadata": {},
   "source": [
    "## Step 5: Preparing and splitting the data Keras Model\n",
    "\n",
    "Given that this is clean tabular data, we don't need to do any processing. However, we do need to split the rows in the dataset up into train, test and validation sets."
   ]
  },
  {
   "cell_type": "code",
   "execution_count": 29,
   "metadata": {},
   "outputs": [],
   "source": [
    "def conver_to_array(df, list_features, target):\n",
    "    '''Convert a dataframe into a numpy array to train the model'''\n",
    "    temp = df[target + list_features]\n",
    "    float_data = temp.as_matrix()\n",
    "    return float_data"
   ]
  },
  {
   "cell_type": "code",
   "execution_count": 30,
   "metadata": {},
   "outputs": [],
   "source": [
    "input_list = ['Open','High','Low','Close','Adj Close','Volume','VDiff_5','VDiff_10','VDiff_20','VDiff_40','VDiff_80','VDiff_160','MA_5','MA_10','MA_20','MA_40','MA_80','MA_160','Open/Close']\n",
    "data = conver_to_array(stock_data_normalized, list_features = input_list, target = ['Close'])"
   ]
  },
  {
   "cell_type": "code",
   "execution_count": 31,
   "metadata": {},
   "outputs": [
    {
     "name": "stdout",
     "output_type": "stream",
     "text": [
      "Min: 0    / Max: 2123 Train Indexes\n",
      "Min: 2124 / Max: 2388 Validation Indexes\n",
      "Min: 2389 / Max: 2654 Test Indexes\n"
     ]
    }
   ],
   "source": [
    "# Indexes train, validation and test datasets\n",
    "train_percentage = 0.80\n",
    "val_percentage = 0.10\n",
    "test_percentage = 1.0 - (train_percentage + val_percentage)\n",
    "\n",
    "min_train_idx, max_train_idx = 0, int(stock_data.shape[0] * train_percentage)\n",
    "min_val_idx, max_val_idx = max_train_idx + 1, max_train_idx + int(stock_data.shape[0] * val_percentage)\n",
    "min_test_idx, max_test_idx = max_val_idx + 1,  stock_data.shape[0] \n",
    "\n",
    "print('Min: {}    / Max: {} Train Indexes'.format(min_train_idx, max_train_idx))\n",
    "print('Min: {} / Max: {} Validation Indexes'.format(min_val_idx, max_val_idx))\n",
    "print('Min: {} / Max: {} Test Indexes'.format(min_test_idx, max_test_idx))"
   ]
  },
  {
   "cell_type": "code",
   "execution_count": 32,
   "metadata": {},
   "outputs": [
    {
     "name": "stdout",
     "output_type": "stream",
     "text": [
      "Train size: 2123 / Validation size: 264 / Test size: 105\n"
     ]
    }
   ],
   "source": [
    "train_data = data[min_train_idx: max_train_idx]\n",
    "validation_data = data[min_val_idx: max_val_idx]\n",
    "test_data = data[min_test_idx: max_test_idx]\n",
    "print('Train size: {} / Validation size: {} / Test size: {}'.format(train_data.shape[0], validation_data.shape[0], test_data.shape[0]))"
   ]
  },
  {
   "cell_type": "code",
   "execution_count": 35,
   "metadata": {},
   "outputs": [],
   "source": [
    "N_INPUTS = 30\n",
    "BATCH_SIZE = 16\n",
    "TEST_BATCH_SIZE = 1\n",
    "\n",
    "train_generator = TimeseriesGenerator(train_data, train_data[:,0], length = N_INPUTS, batch_size = BATCH_SIZE)\n",
    "val_generator = TimeseriesGenerator(validation_data, validation_data[:,0], length = N_INPUTS, batch_size = TEST_BATCH_SIZE)\n",
    "\n",
    "train_steps = len(train_generator)\n",
    "val_steps = len(val_generator)\n",
    "print('Train generator steps: {}'.format(train_steps))\n",
    "print('Validation generator steps: {}'.format(val_steps))"
   ]
  },
  {
   "cell_type": "code",
   "execution_count": 36,
   "metadata": {},
   "outputs": [
    {
     "data": {
      "image/png": "[encoded data removed]",
      "text/plain": [
       "<Figure size 864x360 with 1 Axes>"
      ]
     },
     "metadata": {},
     "output_type": "display_data"
    }
   ],
   "source": [
    "plt.figure(figsize = (12,5))\n",
    "plt.plot(range(stock_data[min_train_idx:max_test_idx].shape[0]), (stock_data['Low'][min_train_idx:max_test_idx] + stock_data['High'][min_train_idx:max_test_idx]) / 2.0)\n",
    "plt.plot(range(stock_data[min_train_idx:max_val_idx].shape[0]), (stock_data['Low'][min_train_idx:max_val_idx] + stock_data['High'][min_train_idx:max_val_idx]) / 2.0)\n",
    "plt.plot(range(stock_data[min_train_idx:max_train_idx].shape[0]), (stock_data['Low'][min_train_idx:max_train_idx] + stock_data['High'][min_train_idx:max_train_idx]) / 2.0)\n",
    "#plt.xticks(range(0, stock_data.shape[0], 500), stock_data['Date'].loc[::500], rotation = 45, fontsize = 8)\n",
    "plt.xlabel('Date', fontsize = 14)\n",
    "plt.ylabel('Mideum Price',fontsize = 14)\n",
    "plt.show()"
   ]
  },
  {
   "cell_type": "markdown",
   "metadata": {},
   "source": [
    "## Step 5: Preparing and splitting the data Pythorch Model\n",
    "\n",
    "Given that this is clean tabular data, we don't need to do any processing. However, we do need to split the rows in the dataset up into train, test and validation sets."
   ]
  },
  {
   "cell_type": "markdown",
   "metadata": {},
   "source": [
    "### Building the Dataset with Pythorch"
   ]
  },
  {
   "cell_type": "code",
   "execution_count": 91,
   "metadata": {},
   "outputs": [],
   "source": [
    "def create_dataset(dataset, look_back=1, forecast_horizon=1, batch_size=1):\n",
    "    batch_x, batch_y, batch_z = [], [], []\n",
    "    for i in range(0, len(dataset)-look_back-forecast_horizon-batch_size+1, batch_size):\n",
    "        for n in range(batch_size):            \n",
    "            x = dataset[['Close','Open']].values[i+n:(i + n + look_back), :]\n",
    "            offset = x[0, 0]\n",
    "            y = dataset['Close'].values[i + n + look_back:i + n + look_back + forecast_horizon]\n",
    "            batch_x.append(np.array(x).reshape(look_back, -1))\n",
    "            batch_y.append(np.array(y))\n",
    "            batch_z.append(np.array(offset))\n",
    "        batch_x = np.array(batch_x)\n",
    "        batch_y = np.array(batch_y)\n",
    "        batch_z = np.array(batch_z)\n",
    "        batch_x[:, :, 0] -= batch_z.reshape(-1, 1)\n",
    "        batch_y -= batch_z.reshape(-1, 1)\n",
    "        yield batch_x, batch_y, batch_z\n",
    "        batch_x, batch_y, batch_z = [], [], []"
   ]
  },
  {
   "cell_type": "code",
   "execution_count": 92,
   "metadata": {},
   "outputs": [],
   "source": [
    "train_samples = create_dataset(stock_data, look_back = 3, forecast_horizon = 1, batch_size = 3)"
   ]
  },
  {
   "cell_type": "code",
   "execution_count": 93,
   "metadata": {},
   "outputs": [
    {
     "data": {
      "text/plain": [
       "(array([[[ 0.      , 31.190001],\n",
       "         [-2.1     , 30.73    ],\n",
       "         [-1.470001, 29.790001]],\n",
       " \n",
       "        [[ 0.      , 30.73    ],\n",
       "         [ 0.629999, 29.790001],\n",
       "         [-1.16    , 29.15    ]],\n",
       " \n",
       "        [[ 0.      , 29.790001],\n",
       "         [-1.789999, 29.15    ],\n",
       "         [-2.66    , 27.9     ]]]), array([[-3.26    ],\n",
       "        [-2.030001],\n",
       "        [-3.91    ]]), array([31.35    , 29.25    , 29.879999]))"
      ]
     },
     "execution_count": 93,
     "metadata": {},
     "output_type": "execute_result"
    }
   ],
   "source": [
    "next(train_samples)"
   ]
  },
  {
   "cell_type": "markdown",
   "metadata": {},
   "source": [
    "## Step 6: Computing the common-sense, non-machine learning baseline\n",
    "\n",
    "Now that we have the training and validation data uploaded to S3, we can construct our XGBoost model and train it. We will be making use of the high level SageMaker API to do this which will make the resulting code a little easier to read at the cost of some flexibility.\n",
    "\n",
    "To construct an estimator, the object which we wish to train, we need to provide the location of a container which contains the training code. Since we are using a built in algorithm this container is provided by Amazon. However, the full name of the container is a bit lengthy and depends on the region that we are operating in. Fortunately, SageMaker provides a useful utility method called `get_image_uri` that constructs the image name for us.\n",
    "\n",
    "To use the `get_image_uri` method we need to provide it with our current region, which can be obtained from the session object, and the name of the algorithm we wish to use. In this notebook we will be using XGBoost however you could try another algorithm if you wish. The list of built in algorithms can be found in the list of [Common Parameters](https://docs.aws.amazon.com/sagemaker/latest/dg/sagemaker-algo-docker-registry-paths.html).\n"
   ]
  },
  {
   "cell_type": "code",
   "execution_count": null,
   "metadata": {},
   "outputs": [],
   "source": [
    "def evaluate_naive_method():\n",
    "    batch_maes = []\n",
    "    for step in range(val_steps):\n",
    "        samples, targets = (val_generator[step])\n",
    "        preds = samples[:, -1, 0]\n",
    "        mae = np.mean(np.abs(preds - targets))\n",
    "        batch_maes.append(mae)\n",
    "    return (np.mean(batch_maes))\n",
    "    \n",
    "\n",
    "mean_absolute_error = evaluate_naive_method()\n",
    "print(mean_absolute_error)"
   ]
  },
  {
   "cell_type": "markdown",
   "metadata": {},
   "source": [
    "## Step 7: Uploading the training and validation files to S3\n",
    "\n",
    "When a training job is constructed using SageMaker, a container is executed which performs the training operation. This container is given access to data that is stored in S3. This means that we need to upload the data we want to use for training to S3. We can use the SageMaker API to do this and hide some of the details.\n",
    "\n",
    "### Save the data locally\n",
    "\n",
    "First we need to create the train and validation csv files which we will then upload to S3.\n",
    "\n"
   ]
  },
  {
   "cell_type": "code",
   "execution_count": null,
   "metadata": {},
   "outputs": [],
   "source": [
    "# This is our local data directory. We need to make sure that it exists.\n",
    "data_dir = '../data/boston'\n",
    "if not os.path.exists(data_dir):\n",
    "    os.makedirs(data_dir)"
   ]
  },
  {
   "cell_type": "code",
   "execution_count": null,
   "metadata": {},
   "outputs": [],
   "source": [
    "# We use pandas to save our train and validation data to csv files. Note that we make sure not to include header\n",
    "# information or an index as this is required by the built in algorithms provided by Amazon. Also, it is assumed\n",
    "# that the first entry in each row is the target variable.\n",
    "\n",
    "pd.concat([Y_val, X_val], axis=1).to_csv(os.path.join(data_dir, 'validation.csv'), header=False, index=False)\n",
    "pd.concat([Y_train, X_train], axis=1).to_csv(os.path.join(data_dir, 'train.csv'), header=False, index=False)"
   ]
  },
  {
   "cell_type": "markdown",
   "metadata": {},
   "source": [
    "### Upload the data to a S3 bucket\n",
    "\n",
    "Since we are currently running inside of a SageMaker session, we can use the object which represents this session to upload our data to the 'default' S3 bucket. Note that it is good practice to provide a custom prefix (essentially an S3 folder) to make sure that you don't accidentally interfere with data uploaded from some other notebook or project."
   ]
  },
  {
   "cell_type": "code",
   "execution_count": null,
   "metadata": {},
   "outputs": [],
   "source": [
    "prefix = 'boston-xgboost-deploy-ll'\n",
    "\n",
    "val_location = session.upload_data(os.path.join(data_dir, 'validation.csv'), key_prefix=prefix)\n",
    "train_location = session.upload_data(os.path.join(data_dir, 'train.csv'), key_prefix=prefix)"
   ]
  },
  {
   "cell_type": "markdown",
   "metadata": {},
   "source": [
    "## Step 8: Train and construct the Keras model\n",
    "\n",
    "Now that we have the training and validation data uploaded to S3, we can construct a training job for our XGBoost model and build the model itself.\n",
    "\n",
    "### Set up the training job\n",
    "\n",
    "First, we will set up and execute a training job for our model. To do this we need to specify some information that SageMaker will use to set up and properly execute the computation. For additional documentation on constructing a training job, see the [CreateTrainingJob API](https://docs.aws.amazon.com/sagemaker/latest/dg/API_CreateTrainingJob.html) reference."
   ]
  },
  {
   "cell_type": "code",
   "execution_count": null,
   "metadata": {},
   "outputs": [],
   "source": [
    "model = Sequential()\n",
    "model.add(Bidirectional(LSTM(32, activation = 'relu', dropout = 0.0, recurrent_dropout = 0.0, return_sequences = True), input_shape = (None, train_data.shape[-1])))\n",
    "model.add(Bidirectional(LSTM(8, activation = 'relu', dropout = 0.0, recurrent_dropout = 0.0)))\n",
    "model.add(layers.Dense(1))\n",
    "\n",
    "model.compile(optimizer = Adam(lr = 0.0025, beta_1 = 0.9, beta_2 = 0.999, epsilon = None, decay = 0.001, amsgrad = False), loss = 'mae')\n",
    "\n",
    "history = model.fit_generator(train_generator,\n",
    "                              steps_per_epoch = 500,\n",
    "                              epochs = 20,\n",
    "                              validation_data = val_generator,\n",
    "                              validation_steps = len(val_generator))"
   ]
  },
  {
   "cell_type": "markdown",
   "metadata": {},
   "source": [
    "### Creating Estimators in tf.estimator with Keras\n",
    "\n",
    "This tutorial covers how to create your own training script using the building blocks provided in tf.keras, which will predict the ages of abalones based on their physical measurements. You'll learn how to do the following:\n",
    "\n",
    "* Construct a custom model function\n",
    "* Configure a neural network using tf.keras\n",
    "* Choose an appropriate loss function from tf.losses\n",
    "* Define a training op for your model\n",
    "* Generate and return predictions"
   ]
  },
  {
   "cell_type": "markdown",
   "metadata": {},
   "source": [
    "### An Abalone Age Predictor\n",
    "\n",
    "It's possible to estimate the age of an\n",
    "[abalone](https://en.wikipedia.org/wiki/Abalone) (sea snail) by the number of\n",
    "rings on its shell. However, because this task requires cutting, staining, and\n",
    "viewing the shell under a microscope, it's desirable to find other measurements\n",
    "that can predict age.\n",
    "\n",
    "The [Abalone Data Set](https://archive.ics.uci.edu/ml/datasets/Abalone) contains\n",
    "the following\n",
    "[feature data](https://archive.ics.uci.edu/ml/machine-learning-databases/abalone/abalone.names)\n",
    "for abalone:\n",
    "\n",
    "| Feature        | Description                                               |\n",
    "| -------------- | --------------------------------------------------------- |\n",
    "| Length         | Length of abalone (in longest direction; in mm)           |\n",
    "| Diameter       | Diameter of abalone (measurement perpendicular to length; in mm)|\n",
    "| Height         | Height of abalone (with its meat inside shell; in mm)     |\n",
    "| Whole Weight   | Weight of entire abalone (in grams)                       |\n",
    "| Shucked Weight | Weight of abalone meat only (in grams)                    |\n",
    "| Viscera Weight | Gut weight of abalone (in grams), after bleeding          |\n",
    "| Shell Weight   | Weight of dried abalone shell (in grams)                  |\n",
    "| Shell Weight   | Weight of dried abalone shell (in grams)                  |\n",
    "| Shell Weight   | Weight of dried abalone shell (in grams)                  |\n",
    "| Shell Weight   | Weight of dried abalone shell (in grams)                  |\n",
    "| Shell Weight   | Weight of dried abalone shell (in grams)                  |\n",
    "| Shell Weight   | Weight of dried abalone shell (in grams)                  |\n",
    "| Shell Weight   | Weight of dried abalone shell (in grams)                  |\n",
    "| Shell Weight   | Weight of dried abalone shell (in grams)                  |\n",
    "| Shell Weight   | Weight of dried abalone shell (in grams)                  |\n",
    "| Shell Weight   | Weight of dried abalone shell (in grams)                  |\n",
    "| Shell Weight   | Weight of dried abalone shell (in grams)                  |\n",
    "| Shell Weight   | Weight of dried abalone shell (in grams)                  |\n",
    "\n",
    "\n",
    "The label to predict is number of rings, as a proxy for abalone age."
   ]
  },
  {
   "cell_type": "markdown",
   "metadata": {},
   "source": [
    "## Step 9: Train and construct the Pythorch model\n",
    "\n",
    "Now that we have the training and validation data uploaded to S3, we can construct a training job for our XGBoost model and build the model itself.\n",
    "\n",
    "### Set up the training job\n",
    "\n",
    "First, we will set up and execute a training job for our model. To do this we need to specify some information that SageMaker will use to set up and properly execute the computation. For additional documentation on constructing a training job, see the [CreateTrainingJob API](https://docs.aws.amazon.com/sagemaker/latest/dg/API_CreateTrainingJob.html) reference."
   ]
  },
  {
   "cell_type": "code",
   "execution_count": 117,
   "metadata": {},
   "outputs": [],
   "source": [
    "def create_dataset(dataset, look_back=1, forecast_horizon=1, batch_size=1):\n",
    "    batch_x, batch_y, batch_z = [], [], []\n",
    "    for i in range(0, len(dataset)-look_back-forecast_horizon-batch_size+1, batch_size):\n",
    "        for n in range(batch_size):            \n",
    "            x = dataset[['Close','Open']].values[i+n:(i + n + look_back), :]\n",
    "            offset = x[0, 0]\n",
    "            y = dataset['Close'].values[i + n + look_back:i + n + look_back + forecast_horizon]\n",
    "            batch_x.append(np.array(x).reshape(look_back, -1))\n",
    "            batch_y.append(np.array(y))\n",
    "            batch_z.append(np.array(offset))\n",
    "        batch_x = np.array(batch_x)\n",
    "        batch_y = np.array(batch_y)\n",
    "        batch_z = np.array(batch_z)\n",
    "        batch_x[:, :, 0] -= batch_z.reshape(-1, 1)\n",
    "        batch_y -= batch_z.reshape(-1, 1)\n",
    "        yield batch_x, batch_y\n",
    "        batch_x, batch_y, batch_z = [], [], []"
   ]
  },
  {
   "cell_type": "code",
   "execution_count": 118,
   "metadata": {},
   "outputs": [],
   "source": [
    "import torch\n",
    "import torch.nn as nn\n",
    "import torch.nn.functional as F\n",
    "from torch.autograd import Variable\n",
    "\n",
    "class Model(nn.Module):\n",
    "    def __init__(self, config):\n",
    "        super(Model, self).__init__()\n",
    "        self.hidden_size = 128\n",
    "        self.bi = 1\n",
    "        self.lstm = nn.LSTM(config.get('features'),self.hidden_size,1,dropout=0.1,bidirectional=self.bi-1,batch_first=True)\n",
    "        self.lstm2 = nn.LSTM(self.hidden_size,self.hidden_size // 4,1,dropout=0.1,bidirectional=self.bi-1,batch_first=True)\n",
    "        self.dense = nn.Linear(self.hidden_size // 4, config.get('forecast_horizon'))\n",
    "        self.loss_fn = nn.MSELoss()\n",
    "        \n",
    "    def forward(self, x, batch_size = 32):\n",
    "        hidden = self.init_hidden(batch_size)\n",
    "        output, _ = self.lstm(x, hidden)\n",
    "        output = F.dropout(output, p=0.5, training=True)\n",
    "        state = self.init_hidden2(batch_size)\n",
    "        output, state = self.lstm2(output, state)\n",
    "        output = F.dropout(output, p=0.5, training=True)\n",
    "        output = self.dense(state[0].squeeze(0))\n",
    "        \n",
    "        return output\n",
    "        \n",
    "    def init_hidden(self, batch_size):\n",
    "        h0 = Variable(torch.zeros(self.bi, batch_size, self.hidden_size))\n",
    "        c0 = Variable(torch.zeros(self.bi, batch_size, self.hidden_size))\n",
    "        return h0, c0\n",
    "    \n",
    "    def init_hidden2(self, batch_size):\n",
    "        h0 = Variable(torch.zeros(self.bi, batch_size, self.hidden_size//4))\n",
    "        c0 = Variable(torch.zeros(self.bi, batch_size, self.hidden_size//4))\n",
    "        return h0, c0\n",
    "    \n",
    "    def loss(self, pred, truth):\n",
    "        return self.loss_fn(pred, truth)"
   ]
  },
  {
   "cell_type": "code",
   "execution_count": 119,
   "metadata": {},
   "outputs": [
    {
     "name": "stdout",
     "output_type": "stream",
     "text": [
      "[[[ 0.          0.16076146]\n",
      "  [-0.00719108  0.17176498]\n",
      "  [-0.00088503  0.1665933 ]\n",
      "  [-0.00398275  0.1665933 ]\n",
      "  [-0.00232325  0.16285211]\n",
      "  [-0.00818677  0.17121481]\n",
      "  [-0.00221265  0.15613996]\n",
      "  [-0.02201573  0.16318225]\n",
      "  [-0.03097687  0.14590667]\n",
      "  [-0.0171479   0.14282571]]]\n",
      "..................................................\n",
      "[                    ] Epoch 0: loss=nan\r"
     ]
    },
    {
     "ename": "TypeError",
     "evalue": "lstm() received an invalid combination of arguments - got (Tensor, tuple, list, bool, int, float, bool, int, bool), but expected one of:\n * (Tensor data, Tensor batch_sizes, tuple of Tensors hx, tuple of Tensors params, bool has_biases, int num_layers, float dropout, bool train, bool bidirectional)\n      didn't match because some of the arguments have invalid types: (Tensor, !tuple!, !list!, !bool!, !int!, !float!, !bool!, !int!, bool)\n * (Tensor input, tuple of Tensors hx, tuple of Tensors params, bool has_biases, int num_layers, float dropout, bool train, bool bidirectional, bool batch_first)\n      didn't match because some of the arguments have invalid types: (Tensor, !tuple!, !list!, bool, int, float, bool, !int!, bool)\n",
     "output_type": "error",
     "traceback": [
      "\u001b[0;31m---------------------------------------------------------------------------\u001b[0m",
      "\u001b[0;31mTypeError\u001b[0m                                 Traceback (most recent call last)",
      "\u001b[0;32m<ipython-input-119-61335c6a8a3e>\u001b[0m in \u001b[0;36m<module>\u001b[0;34m()\u001b[0m\n\u001b[1;32m     21\u001b[0m             \u001b[0;32mbreak\u001b[0m\u001b[0;34m\u001b[0m\u001b[0m\n\u001b[1;32m     22\u001b[0m \u001b[0;34m\u001b[0m\u001b[0m\n\u001b[0;32m---> 23\u001b[0;31m         \u001b[0mout\u001b[0m \u001b[0;34m=\u001b[0m \u001b[0mmodel\u001b[0m\u001b[0;34m.\u001b[0m\u001b[0mforward\u001b[0m\u001b[0;34m(\u001b[0m\u001b[0mbatch\u001b[0m\u001b[0;34m[\u001b[0m\u001b[0;36m0\u001b[0m\u001b[0;34m]\u001b[0m\u001b[0;34m.\u001b[0m\u001b[0mfloat\u001b[0m\u001b[0;34m(\u001b[0m\u001b[0;34m)\u001b[0m\u001b[0;34m,\u001b[0m \u001b[0mbatch_size\u001b[0m\u001b[0;34m)\u001b[0m\u001b[0;34m\u001b[0m\u001b[0m\n\u001b[0m\u001b[1;32m     24\u001b[0m         \u001b[0mloss\u001b[0m \u001b[0;34m=\u001b[0m \u001b[0mmodel\u001b[0m\u001b[0;34m.\u001b[0m\u001b[0mloss\u001b[0m\u001b[0;34m(\u001b[0m\u001b[0mout\u001b[0m\u001b[0;34m,\u001b[0m \u001b[0mbatch\u001b[0m\u001b[0;34m[\u001b[0m\u001b[0;36m1\u001b[0m\u001b[0;34m]\u001b[0m\u001b[0;34m.\u001b[0m\u001b[0mfloat\u001b[0m\u001b[0;34m(\u001b[0m\u001b[0;34m)\u001b[0m\u001b[0;34m)\u001b[0m\u001b[0;34m\u001b[0m\u001b[0m\n\u001b[1;32m     25\u001b[0m         \u001b[0;32mif\u001b[0m \u001b[0mepoch\u001b[0m \u001b[0;34m==\u001b[0m \u001b[0mn_epochs\u001b[0m \u001b[0;34m-\u001b[0m \u001b[0;36m1\u001b[0m\u001b[0;34m:\u001b[0m\u001b[0;34m\u001b[0m\u001b[0m\n",
      "\u001b[0;32m<ipython-input-118-1905a75ed171>\u001b[0m in \u001b[0;36mforward\u001b[0;34m(self, x, batch_size)\u001b[0m\n\u001b[1;32m     16\u001b[0m     \u001b[0;32mdef\u001b[0m \u001b[0mforward\u001b[0m\u001b[0;34m(\u001b[0m\u001b[0mself\u001b[0m\u001b[0;34m,\u001b[0m \u001b[0mx\u001b[0m\u001b[0;34m,\u001b[0m \u001b[0mbatch_size\u001b[0m \u001b[0;34m=\u001b[0m \u001b[0;36m32\u001b[0m\u001b[0;34m)\u001b[0m\u001b[0;34m:\u001b[0m\u001b[0;34m\u001b[0m\u001b[0m\n\u001b[1;32m     17\u001b[0m         \u001b[0mhidden\u001b[0m \u001b[0;34m=\u001b[0m \u001b[0mself\u001b[0m\u001b[0;34m.\u001b[0m\u001b[0minit_hidden\u001b[0m\u001b[0;34m(\u001b[0m\u001b[0mbatch_size\u001b[0m\u001b[0;34m)\u001b[0m\u001b[0;34m\u001b[0m\u001b[0m\n\u001b[0;32m---> 18\u001b[0;31m         \u001b[0moutput\u001b[0m\u001b[0;34m,\u001b[0m \u001b[0m_\u001b[0m \u001b[0;34m=\u001b[0m \u001b[0mself\u001b[0m\u001b[0;34m.\u001b[0m\u001b[0mlstm\u001b[0m\u001b[0;34m(\u001b[0m\u001b[0mx\u001b[0m\u001b[0;34m,\u001b[0m \u001b[0mhidden\u001b[0m\u001b[0;34m)\u001b[0m\u001b[0;34m\u001b[0m\u001b[0m\n\u001b[0m\u001b[1;32m     19\u001b[0m         \u001b[0moutput\u001b[0m \u001b[0;34m=\u001b[0m \u001b[0mF\u001b[0m\u001b[0;34m.\u001b[0m\u001b[0mdropout\u001b[0m\u001b[0;34m(\u001b[0m\u001b[0moutput\u001b[0m\u001b[0;34m,\u001b[0m \u001b[0mp\u001b[0m\u001b[0;34m=\u001b[0m\u001b[0;36m0.5\u001b[0m\u001b[0;34m,\u001b[0m \u001b[0mtraining\u001b[0m\u001b[0;34m=\u001b[0m\u001b[0;32mTrue\u001b[0m\u001b[0;34m)\u001b[0m\u001b[0;34m\u001b[0m\u001b[0m\n\u001b[1;32m     20\u001b[0m         \u001b[0mstate\u001b[0m \u001b[0;34m=\u001b[0m \u001b[0mself\u001b[0m\u001b[0;34m.\u001b[0m\u001b[0minit_hidden2\u001b[0m\u001b[0;34m(\u001b[0m\u001b[0mbatch_size\u001b[0m\u001b[0;34m)\u001b[0m\u001b[0;34m\u001b[0m\u001b[0m\n",
      "\u001b[0;32m~/anaconda3/envs/pytorch_p36/lib/python3.6/site-packages/torch/nn/modules/module.py\u001b[0m in \u001b[0;36m__call__\u001b[0;34m(self, *input, **kwargs)\u001b[0m\n\u001b[1;32m    491\u001b[0m             \u001b[0mresult\u001b[0m \u001b[0;34m=\u001b[0m \u001b[0mself\u001b[0m\u001b[0;34m.\u001b[0m\u001b[0m_slow_forward\u001b[0m\u001b[0;34m(\u001b[0m\u001b[0;34m*\u001b[0m\u001b[0minput\u001b[0m\u001b[0;34m,\u001b[0m \u001b[0;34m**\u001b[0m\u001b[0mkwargs\u001b[0m\u001b[0;34m)\u001b[0m\u001b[0;34m\u001b[0m\u001b[0m\n\u001b[1;32m    492\u001b[0m         \u001b[0;32melse\u001b[0m\u001b[0;34m:\u001b[0m\u001b[0;34m\u001b[0m\u001b[0m\n\u001b[0;32m--> 493\u001b[0;31m             \u001b[0mresult\u001b[0m \u001b[0;34m=\u001b[0m \u001b[0mself\u001b[0m\u001b[0;34m.\u001b[0m\u001b[0mforward\u001b[0m\u001b[0;34m(\u001b[0m\u001b[0;34m*\u001b[0m\u001b[0minput\u001b[0m\u001b[0;34m,\u001b[0m \u001b[0;34m**\u001b[0m\u001b[0mkwargs\u001b[0m\u001b[0;34m)\u001b[0m\u001b[0;34m\u001b[0m\u001b[0m\n\u001b[0m\u001b[1;32m    494\u001b[0m         \u001b[0;32mfor\u001b[0m \u001b[0mhook\u001b[0m \u001b[0;32min\u001b[0m \u001b[0mself\u001b[0m\u001b[0;34m.\u001b[0m\u001b[0m_forward_hooks\u001b[0m\u001b[0;34m.\u001b[0m\u001b[0mvalues\u001b[0m\u001b[0;34m(\u001b[0m\u001b[0;34m)\u001b[0m\u001b[0;34m:\u001b[0m\u001b[0;34m\u001b[0m\u001b[0m\n\u001b[1;32m    495\u001b[0m             \u001b[0mhook_result\u001b[0m \u001b[0;34m=\u001b[0m \u001b[0mhook\u001b[0m\u001b[0;34m(\u001b[0m\u001b[0mself\u001b[0m\u001b[0;34m,\u001b[0m \u001b[0minput\u001b[0m\u001b[0;34m,\u001b[0m \u001b[0mresult\u001b[0m\u001b[0;34m)\u001b[0m\u001b[0;34m\u001b[0m\u001b[0m\n",
      "\u001b[0;32m~/anaconda3/envs/pytorch_p36/lib/python3.6/site-packages/torch/nn/modules/rnn.py\u001b[0m in \u001b[0;36mforward\u001b[0;34m(self, input, hx)\u001b[0m\n\u001b[1;32m    557\u001b[0m             \u001b[0;32mreturn\u001b[0m \u001b[0mself\u001b[0m\u001b[0;34m.\u001b[0m\u001b[0mforward_packed\u001b[0m\u001b[0;34m(\u001b[0m\u001b[0minput\u001b[0m\u001b[0;34m,\u001b[0m \u001b[0mhx\u001b[0m\u001b[0;34m)\u001b[0m\u001b[0;34m\u001b[0m\u001b[0m\n\u001b[1;32m    558\u001b[0m         \u001b[0;32melse\u001b[0m\u001b[0;34m:\u001b[0m\u001b[0;34m\u001b[0m\u001b[0m\n\u001b[0;32m--> 559\u001b[0;31m             \u001b[0;32mreturn\u001b[0m \u001b[0mself\u001b[0m\u001b[0;34m.\u001b[0m\u001b[0mforward_tensor\u001b[0m\u001b[0;34m(\u001b[0m\u001b[0minput\u001b[0m\u001b[0;34m,\u001b[0m \u001b[0mhx\u001b[0m\u001b[0;34m)\u001b[0m\u001b[0;34m\u001b[0m\u001b[0m\n\u001b[0m\u001b[1;32m    560\u001b[0m \u001b[0;34m\u001b[0m\u001b[0m\n\u001b[1;32m    561\u001b[0m \u001b[0;34m\u001b[0m\u001b[0m\n",
      "\u001b[0;32m~/anaconda3/envs/pytorch_p36/lib/python3.6/site-packages/torch/nn/modules/rnn.py\u001b[0m in \u001b[0;36mforward_tensor\u001b[0;34m(self, input, hx)\u001b[0m\n\u001b[1;32m    537\u001b[0m         \u001b[0munsorted_indices\u001b[0m \u001b[0;34m=\u001b[0m \u001b[0;32mNone\u001b[0m\u001b[0;34m\u001b[0m\u001b[0m\n\u001b[1;32m    538\u001b[0m \u001b[0;34m\u001b[0m\u001b[0m\n\u001b[0;32m--> 539\u001b[0;31m         \u001b[0moutput\u001b[0m\u001b[0;34m,\u001b[0m \u001b[0mhidden\u001b[0m \u001b[0;34m=\u001b[0m \u001b[0mself\u001b[0m\u001b[0;34m.\u001b[0m\u001b[0mforward_impl\u001b[0m\u001b[0;34m(\u001b[0m\u001b[0minput\u001b[0m\u001b[0;34m,\u001b[0m \u001b[0mhx\u001b[0m\u001b[0;34m,\u001b[0m \u001b[0mbatch_sizes\u001b[0m\u001b[0;34m,\u001b[0m \u001b[0mmax_batch_size\u001b[0m\u001b[0;34m,\u001b[0m \u001b[0msorted_indices\u001b[0m\u001b[0;34m)\u001b[0m\u001b[0;34m\u001b[0m\u001b[0m\n\u001b[0m\u001b[1;32m    540\u001b[0m \u001b[0;34m\u001b[0m\u001b[0m\n\u001b[1;32m    541\u001b[0m         \u001b[0;32mreturn\u001b[0m \u001b[0moutput\u001b[0m\u001b[0;34m,\u001b[0m \u001b[0mself\u001b[0m\u001b[0;34m.\u001b[0m\u001b[0mpermute_hidden\u001b[0m\u001b[0;34m(\u001b[0m\u001b[0mhidden\u001b[0m\u001b[0;34m,\u001b[0m \u001b[0munsorted_indices\u001b[0m\u001b[0;34m)\u001b[0m\u001b[0;34m\u001b[0m\u001b[0m\n",
      "\u001b[0;32m~/anaconda3/envs/pytorch_p36/lib/python3.6/site-packages/torch/nn/modules/rnn.py\u001b[0m in \u001b[0;36mforward_impl\u001b[0;34m(self, input, hx, batch_sizes, max_batch_size, sorted_indices)\u001b[0m\n\u001b[1;32m    520\u001b[0m         \u001b[0;32mif\u001b[0m \u001b[0mbatch_sizes\u001b[0m \u001b[0;32mis\u001b[0m \u001b[0;32mNone\u001b[0m\u001b[0;34m:\u001b[0m\u001b[0;34m\u001b[0m\u001b[0m\n\u001b[1;32m    521\u001b[0m             result = _VF.lstm(input, hx, self._get_flat_weights(), self.bias, self.num_layers,\n\u001b[0;32m--> 522\u001b[0;31m                               self.dropout, self.training, self.bidirectional, self.batch_first)\n\u001b[0m\u001b[1;32m    523\u001b[0m         \u001b[0;32melse\u001b[0m\u001b[0;34m:\u001b[0m\u001b[0;34m\u001b[0m\u001b[0m\n\u001b[1;32m    524\u001b[0m             result = _VF.lstm(input, batch_sizes, hx, self._get_flat_weights(), self.bias,\n",
      "\u001b[0;31mTypeError\u001b[0m: lstm() received an invalid combination of arguments - got (Tensor, tuple, list, bool, int, float, bool, int, bool), but expected one of:\n * (Tensor data, Tensor batch_sizes, tuple of Tensors hx, tuple of Tensors params, bool has_biases, int num_layers, float dropout, bool train, bool bidirectional)\n      didn't match because some of the arguments have invalid types: (Tensor, !tuple!, !list!, !bool!, !int!, !float!, !bool!, !int!, bool)\n * (Tensor input, tuple of Tensors hx, tuple of Tensors params, bool has_biases, int num_layers, float dropout, bool train, bool bidirectional, bool batch_first)\n      didn't match because some of the arguments have invalid types: (Tensor, !tuple!, !list!, bool, int, float, bool, !int!, bool)\n"
     ]
    }
   ],
   "source": [
    "batch_size = 1\n",
    "forecast_horizon = 1\n",
    "look_back = 10\n",
    "model = Model(dict(features = 2, forecast_horizon = 1))\n",
    "optimizer = torch.optim.Adam(model.parameters(), lr = 0.001)\n",
    "n_epochs = 3\n",
    "\n",
    "model.train()\n",
    "train_true_y = []\n",
    "train_pred_y = []\n",
    "\n",
    "for epoch in range(n_epochs):\n",
    "    ep_loss = []\n",
    "    for i, batch in enumerate(create_dataset(stock_data_normalized, look_back = look_back, forecast_horizon = 1, batch_size = batch_size)):\n",
    "        print(\"[{}{}] Epoch {}: loss={:0.4f}\".format(\"-\"*(20*i//(len(stock_data_normalized)//batch_size)), \" \"*(20-(20*i//(len(stock_data_normalized)//batch_size))),epoch, np.mean(ep_loss)), end=\"\\r\")\n",
    "        try:\n",
    "            batch = [torch.Tensor(x) for x in batch]\n",
    "        except:\n",
    "            break\n",
    "\n",
    "        out = model.forward(batch[0].float(), batch_size)\n",
    "        loss = model.loss(out, batch[1].float())\n",
    "        if epoch == n_epochs - 1:\n",
    "            train_true_y.append((batch[1] + batch[2]).detach().numpy().reshape(-1))\n",
    "            train_pred_y.append((out + batch[2]).detach().numpy().reshape(-1))\n",
    "        optimizer.zero_grad()\n",
    "        loss.backward()\n",
    "        optimizer.step()\n",
    "        ep_loss.append(loss.item())\n",
    "    print()"
   ]
  },
  {
   "cell_type": "code",
   "execution_count": null,
   "metadata": {},
   "outputs": [],
   "source": []
  },
  {
   "cell_type": "code",
   "execution_count": null,
   "metadata": {},
   "outputs": [],
   "source": []
  },
  {
   "cell_type": "code",
   "execution_count": null,
   "metadata": {},
   "outputs": [],
   "source": []
  }
 ],
 "metadata": {
  "kernelspec": {
   "display_name": "conda_pytorch_p36",
   "language": "python",
   "name": "conda_pytorch_p36"
  },
  "language_info": {
   "codemirror_mode": {
    "name": "ipython",
    "version": 3
   },
   "file_extension": ".py",
   "mimetype": "text/x-python",
   "name": "python",
   "nbconvert_exporter": "python",
   "pygments_lexer": "ipython3",
   "version": "3.6.5"
  }
 },
 "nbformat": 4,
 "nbformat_minor": 4
}
