{
 "cells": [
  {
   "cell_type": "markdown",
   "metadata": {},
   "source": [
    "# Stock Predictions\n",
    "\n",
    "## Using LSTM in Keras with TensorFlow\n",
    "\n",
    "_Deep Learning Nanodegree Program | Deployment Model_\n",
    "\n",
    "---"
   ]
  },
  {
   "cell_type": "markdown",
   "metadata": {},
   "source": [
    "## Step 1: Setting up the notebook\n",
    "\n",
    "We begin by setting up all of the necessary bits required to run our notebook. To start that means loading all of the Python modules we will need.<br>\n",
    "This notebook was created and tested on an **ml.m4.xlarge** notebook instance."
   ]
  },
  {
   "cell_type": "markdown",
   "metadata": {},
   "source": [
    "Now we'll import the **Python** libraries we'll need."
   ]
  },
  {
   "cell_type": "code",
   "execution_count": 323,
   "metadata": {},
   "outputs": [],
   "source": [
    "import pandas as pd # High-performance, easy-to-use data structures and data analysis tools for the Python\n",
    "import numpy as np\n",
    "import warnings # Built-in exceptions that represent warning categories\n",
    "import matplotlib.pyplot as plt # Python 2D plotting library which produces publication quality figures in a variety of hardcopy formats and interactive environments \n",
    "import seaborn as sns\n",
    "from scipy import stats\n",
    "import sklearn.preprocessing\n",
    "from keras.preprocessing.sequence import TimeseriesGenerator\n",
    "\n",
    "from keras.models import Sequential\n",
    "from keras import layers\n",
    "from keras.optimizers import Adam\n",
    "from keras.models import Sequential\n",
    "from keras.layers import LSTM\n",
    "from keras.layers import Dense\n",
    "from keras.layers import TimeDistributed\n",
    "from keras.layers import Bidirectional"
   ]
  },
  {
   "cell_type": "markdown",
   "metadata": {},
   "source": [
    "\n",
    "Now we'll configure the **Notebook** with what we'll need to make the developing experience better."
   ]
  },
  {
   "cell_type": "code",
   "execution_count": 324,
   "metadata": {},
   "outputs": [],
   "source": [
    "pd.options.display.float_format = '{:,.3f}'.format # Configure the decimal display options for the notebook\n",
    "warnings.filterwarnings('ignore') # Du=isable the notebook warnings"
   ]
  },
  {
   "cell_type": "markdown",
   "metadata": {},
   "source": [
    "## Step 2: Downloading the data\n",
    "\n",
    "The dataset we are going to use is very popular among researchers in Natural Language Processing, usually referred to as the [IMDb dataset](http://ai.stanford.edu/~amaas/data/sentiment/). It consists of movie reviews from the website [imdb.com](http://www.imdb.com/), each labeled as either '**pos**itive', if the reviewer enjoyed the film, or '**neg**ative' otherwise.\n",
    "\n",
    "> Maas, Andrew L., et al. [Learning Word Vectors for Sentiment Analysis](http://ai.stanford.edu/~amaas/data/sentiment/). In _Proceedings of the 49th Annual Meeting of the Association for Computational Linguistics: Human Language Technologies_. Association for Computational Linguistics, 2011.\n",
    "\n",
    "We begin by using some Jupyter Notebook magic to download and extract the dataset."
   ]
  },
  {
   "cell_type": "code",
   "execution_count": 325,
   "metadata": {},
   "outputs": [
    {
     "name": "stdout",
     "output_type": "stream",
     "text": [
      "--2019-08-04 01:52:31--  https://investment-and-trading-udacity.s3-us-west-2.amazonaws.com/JPM+2009-2019.csv\n",
      "Resolving investment-and-trading-udacity.s3-us-west-2.amazonaws.com (investment-and-trading-udacity.s3-us-west-2.amazonaws.com)... 52.218.224.129\n",
      "Connecting to investment-and-trading-udacity.s3-us-west-2.amazonaws.com (investment-and-trading-udacity.s3-us-west-2.amazonaws.com)|52.218.224.129|:443... connected.\n",
      "HTTP request sent, awaiting response... 200 OK\n",
      "Length: 187676 (183K) [text/csv]\n",
      "Saving to: ‘../data/raw/JPM+2009-2019.csv’\n",
      "\n",
      "../data/raw/JPM+200 100%[===================>] 183.28K   867KB/s    in 0.2s    \n",
      "\n",
      "2019-08-04 01:52:31 (867 KB/s) - ‘../data/raw/JPM+2009-2019.csv’ saved [187676/187676]\n",
      "\n"
     ]
    }
   ],
   "source": [
    "# Download information from a s3 bucket overwritten previous files\n",
    "!wget https://investment-and-trading-udacity.s3-us-west-2.amazonaws.com/JPM+2009-2019.csv -O ../data/raw/JPM+2009-2019.csv"
   ]
  },
  {
   "cell_type": "code",
   "execution_count": 326,
   "metadata": {},
   "outputs": [],
   "source": [
    "# Load the download information into a pandas dataframe\n",
    "stock_data = pd.read_csv('../data/raw/JPM+2009-2019.csv') "
   ]
  },
  {
   "cell_type": "markdown",
   "metadata": {},
   "source": [
    "## Step 3: Dataset Exploration and Visualization\n",
    "\n",
    "The data we have downloaded is split into various files, each of which contains a single review. It will be much easier going forward if we combine these individual files into two large files, one for training and one for testing."
   ]
  },
  {
   "cell_type": "code",
   "execution_count": 327,
   "metadata": {},
   "outputs": [
    {
     "name": "stdout",
     "output_type": "stream",
     "text": [
      "Dataset dimensions: (2654, 7)\n"
     ]
    }
   ],
   "source": [
    "print('Dataset dimensions: {}'.format(stock_data.shape))"
   ]
  },
  {
   "cell_type": "code",
   "execution_count": 328,
   "metadata": {},
   "outputs": [
    {
     "name": "stdout",
     "output_type": "stream",
     "text": [
      "Minimun date: 2009-01-02 / Maximun date: 2019-07-19\n"
     ]
    }
   ],
   "source": [
    "print('Minimun date: {} / Maximun date: {}'.format(stock_data.Date.min(), stock_data.Date.max()))"
   ]
  },
  {
   "cell_type": "code",
   "execution_count": 329,
   "metadata": {},
   "outputs": [
    {
     "name": "stdout",
     "output_type": "stream",
     "text": [
      "Dataset Information... \n",
      "\n",
      "<class 'pandas.core.frame.DataFrame'>\n",
      "RangeIndex: 2654 entries, 0 to 2653\n",
      "Data columns (total 7 columns):\n",
      "Date         2654 non-null object\n",
      "Open         2654 non-null float64\n",
      "High         2654 non-null float64\n",
      "Low          2654 non-null float64\n",
      "Close        2654 non-null float64\n",
      "Adj Close    2654 non-null float64\n",
      "Volume       2654 non-null int64\n",
      "dtypes: float64(5), int64(1), object(1)\n",
      "memory usage: 145.2+ KB\n"
     ]
    }
   ],
   "source": [
    "print('Dataset Information...', '\\n')\n",
    "stock_data.info()"
   ]
  },
  {
   "cell_type": "code",
   "execution_count": 330,
   "metadata": {},
   "outputs": [
    {
     "name": "stdout",
     "output_type": "stream",
     "text": [
      "Summary of the first rows of the stock market dataset... \n",
      "\n"
     ]
    },
    {
     "data": {
      "text/html": [
       "<div>\n",
       "<style scoped>\n",
       "    .dataframe tbody tr th:only-of-type {\n",
       "        vertical-align: middle;\n",
       "    }\n",
       "\n",
       "    .dataframe tbody tr th {\n",
       "        vertical-align: top;\n",
       "    }\n",
       "\n",
       "    .dataframe thead th {\n",
       "        text-align: right;\n",
       "    }\n",
       "</style>\n",
       "<table border=\"1\" class=\"dataframe\">\n",
       "  <thead>\n",
       "    <tr style=\"text-align: right;\">\n",
       "      <th></th>\n",
       "      <th>Date</th>\n",
       "      <th>Open</th>\n",
       "      <th>High</th>\n",
       "      <th>Low</th>\n",
       "      <th>Close</th>\n",
       "      <th>Adj Close</th>\n",
       "      <th>Volume</th>\n",
       "    </tr>\n",
       "  </thead>\n",
       "  <tbody>\n",
       "    <tr>\n",
       "      <th>0</th>\n",
       "      <td>2009-01-02</td>\n",
       "      <td>31.190</td>\n",
       "      <td>31.640</td>\n",
       "      <td>30.470</td>\n",
       "      <td>31.350</td>\n",
       "      <td>24.564</td>\n",
       "      <td>32494900</td>\n",
       "    </tr>\n",
       "    <tr>\n",
       "      <th>1</th>\n",
       "      <td>2009-01-05</td>\n",
       "      <td>30.730</td>\n",
       "      <td>30.770</td>\n",
       "      <td>29.080</td>\n",
       "      <td>29.250</td>\n",
       "      <td>22.919</td>\n",
       "      <td>44069400</td>\n",
       "    </tr>\n",
       "    <tr>\n",
       "      <th>2</th>\n",
       "      <td>2009-01-06</td>\n",
       "      <td>29.790</td>\n",
       "      <td>30.420</td>\n",
       "      <td>29.510</td>\n",
       "      <td>29.880</td>\n",
       "      <td>23.412</td>\n",
       "      <td>44216300</td>\n",
       "    </tr>\n",
       "    <tr>\n",
       "      <th>3</th>\n",
       "      <td>2009-01-07</td>\n",
       "      <td>29.150</td>\n",
       "      <td>29.400</td>\n",
       "      <td>28.000</td>\n",
       "      <td>28.090</td>\n",
       "      <td>22.010</td>\n",
       "      <td>42156500</td>\n",
       "    </tr>\n",
       "    <tr>\n",
       "      <th>4</th>\n",
       "      <td>2009-01-08</td>\n",
       "      <td>27.900</td>\n",
       "      <td>27.950</td>\n",
       "      <td>26.860</td>\n",
       "      <td>27.220</td>\n",
       "      <td>21.328</td>\n",
       "      <td>52075800</td>\n",
       "    </tr>\n",
       "  </tbody>\n",
       "</table>\n",
       "</div>"
      ],
      "text/plain": [
       "         Date   Open   High    Low  Close  Adj Close    Volume\n",
       "0  2009-01-02 31.190 31.640 30.470 31.350     24.564  32494900\n",
       "1  2009-01-05 30.730 30.770 29.080 29.250     22.919  44069400\n",
       "2  2009-01-06 29.790 30.420 29.510 29.880     23.412  44216300\n",
       "3  2009-01-07 29.150 29.400 28.000 28.090     22.010  42156500\n",
       "4  2009-01-08 27.900 27.950 26.860 27.220     21.328  52075800"
      ]
     },
     "execution_count": 330,
     "metadata": {},
     "output_type": "execute_result"
    }
   ],
   "source": [
    "print('Summary of the first rows of the stock market dataset...', '\\n')\n",
    "stock_data.head()"
   ]
  },
  {
   "cell_type": "code",
   "execution_count": 331,
   "metadata": {},
   "outputs": [
    {
     "name": "stdout",
     "output_type": "stream",
     "text": [
      "Statistical analysis for stock market dataset... \n",
      "\n"
     ]
    },
    {
     "data": {
      "text/html": [
       "<div>\n",
       "<style scoped>\n",
       "    .dataframe tbody tr th:only-of-type {\n",
       "        vertical-align: middle;\n",
       "    }\n",
       "\n",
       "    .dataframe tbody tr th {\n",
       "        vertical-align: top;\n",
       "    }\n",
       "\n",
       "    .dataframe thead th {\n",
       "        text-align: right;\n",
       "    }\n",
       "</style>\n",
       "<table border=\"1\" class=\"dataframe\">\n",
       "  <thead>\n",
       "    <tr style=\"text-align: right;\">\n",
       "      <th></th>\n",
       "      <th>Open</th>\n",
       "      <th>High</th>\n",
       "      <th>Low</th>\n",
       "      <th>Close</th>\n",
       "      <th>Adj Close</th>\n",
       "      <th>Volume</th>\n",
       "    </tr>\n",
       "  </thead>\n",
       "  <tbody>\n",
       "    <tr>\n",
       "      <th>count</th>\n",
       "      <td>2,654.000</td>\n",
       "      <td>2,654.000</td>\n",
       "      <td>2,654.000</td>\n",
       "      <td>2,654.000</td>\n",
       "      <td>2,654.000</td>\n",
       "      <td>2,654.000</td>\n",
       "    </tr>\n",
       "    <tr>\n",
       "      <th>mean</th>\n",
       "      <td>62.128</td>\n",
       "      <td>62.719</td>\n",
       "      <td>61.529</td>\n",
       "      <td>62.134</td>\n",
       "      <td>55.723</td>\n",
       "      <td>26,770,442.200</td>\n",
       "    </tr>\n",
       "    <tr>\n",
       "      <th>std</th>\n",
       "      <td>25.796</td>\n",
       "      <td>25.911</td>\n",
       "      <td>25.694</td>\n",
       "      <td>25.793</td>\n",
       "      <td>27.438</td>\n",
       "      <td>21,861,503.663</td>\n",
       "    </tr>\n",
       "    <tr>\n",
       "      <th>min</th>\n",
       "      <td>15.370</td>\n",
       "      <td>17.290</td>\n",
       "      <td>14.960</td>\n",
       "      <td>15.900</td>\n",
       "      <td>12.458</td>\n",
       "      <td>3,680,000.000</td>\n",
       "    </tr>\n",
       "    <tr>\n",
       "      <th>25%</th>\n",
       "      <td>41.500</td>\n",
       "      <td>41.942</td>\n",
       "      <td>41.032</td>\n",
       "      <td>41.535</td>\n",
       "      <td>33.327</td>\n",
       "      <td>13,436,550.000</td>\n",
       "    </tr>\n",
       "    <tr>\n",
       "      <th>50%</th>\n",
       "      <td>56.615</td>\n",
       "      <td>56.995</td>\n",
       "      <td>56.140</td>\n",
       "      <td>56.670</td>\n",
       "      <td>49.270</td>\n",
       "      <td>19,304,750.000</td>\n",
       "    </tr>\n",
       "    <tr>\n",
       "      <th>75%</th>\n",
       "      <td>78.750</td>\n",
       "      <td>79.440</td>\n",
       "      <td>78.297</td>\n",
       "      <td>79.250</td>\n",
       "      <td>73.618</td>\n",
       "      <td>32,481,600.000</td>\n",
       "    </tr>\n",
       "    <tr>\n",
       "      <th>max</th>\n",
       "      <td>119.130</td>\n",
       "      <td>119.330</td>\n",
       "      <td>118.080</td>\n",
       "      <td>118.770</td>\n",
       "      <td>115.304</td>\n",
       "      <td>217,294,200.000</td>\n",
       "    </tr>\n",
       "  </tbody>\n",
       "</table>\n",
       "</div>"
      ],
      "text/plain": [
       "           Open      High       Low     Close  Adj Close          Volume\n",
       "count 2,654.000 2,654.000 2,654.000 2,654.000  2,654.000       2,654.000\n",
       "mean     62.128    62.719    61.529    62.134     55.723  26,770,442.200\n",
       "std      25.796    25.911    25.694    25.793     27.438  21,861,503.663\n",
       "min      15.370    17.290    14.960    15.900     12.458   3,680,000.000\n",
       "25%      41.500    41.942    41.032    41.535     33.327  13,436,550.000\n",
       "50%      56.615    56.995    56.140    56.670     49.270  19,304,750.000\n",
       "75%      78.750    79.440    78.297    79.250     73.618  32,481,600.000\n",
       "max     119.130   119.330   118.080   118.770    115.304 217,294,200.000"
      ]
     },
     "execution_count": 331,
     "metadata": {},
     "output_type": "execute_result"
    }
   ],
   "source": [
    "print('Statistical analysis for stock market dataset...', '\\n')\n",
    "stock_data.describe()"
   ]
  },
  {
   "cell_type": "code",
   "execution_count": 332,
   "metadata": {},
   "outputs": [
    {
     "name": "stdout",
     "output_type": "stream",
     "text": [
      "Data integrity validation... \n",
      "\n"
     ]
    },
    {
     "data": {
      "text/plain": [
       "Date         0\n",
       "Open         0\n",
       "High         0\n",
       "Low          0\n",
       "Close        0\n",
       "Adj Close    0\n",
       "Volume       0\n",
       "dtype: int64"
      ]
     },
     "execution_count": 332,
     "metadata": {},
     "output_type": "execute_result"
    }
   ],
   "source": [
    "print('Data integrity validation...', '\\n')\n",
    "stock_data.isnull().sum()"
   ]
  },
  {
   "cell_type": "code",
   "execution_count": 333,
   "metadata": {},
   "outputs": [
    {
     "data": {
      "image/png": "[encoded data removed]",
      "text/plain": [
       "<Figure size 720x288 with 1 Axes>"
      ]
     },
     "metadata": {},
     "output_type": "display_data"
    }
   ],
   "source": [
    "plt.figure(figsize = (10,4))\n",
    "plt.plot(range(stock_data.shape[0]), stock_data['Close'])\n",
    "plt.xticks(range(0, stock_data.shape[0], 500), stock_data['Date'].loc[::500], rotation = 45, fontsize = 8)\n",
    "plt.xlabel('Date', fontsize = 14)\n",
    "plt.ylabel('Close Price',fontsize = 14)\n",
    "plt.show()"
   ]
  },
  {
   "cell_type": "code",
   "execution_count": 334,
   "metadata": {},
   "outputs": [
    {
     "data": {
      "image/png": "[encoded data removed]",
      "text/plain": [
       "<Figure size 720x288 with 1 Axes>"
      ]
     },
     "metadata": {},
     "output_type": "display_data"
    }
   ],
   "source": [
    "plt.figure(figsize = (10,4))\n",
    "plt.scatter(stock_data.Close, stock_data.Volume, alpha = 0.2)\n",
    "plt.xlabel('Volume', fontsize = 14)\n",
    "plt.ylabel('Close Price',fontsize = 14)\n",
    "plt.show()"
   ]
  },
  {
   "cell_type": "code",
   "execution_count": 335,
   "metadata": {},
   "outputs": [
    {
     "data": {
      "image/png": "[encoded data removed]",
      "text/plain": [
       "<Figure size 720x288 with 1 Axes>"
      ]
     },
     "metadata": {},
     "output_type": "display_data"
    }
   ],
   "source": [
    "plt.figure(figsize = (10,4))\n",
    "plt.hist(stock_data.Volume, bins = 50, alpha = 0.85)\n",
    "plt.xlabel('Volume', fontsize = 14)\n",
    "plt.ylabel('Freq',fontsize = 14)\n",
    "plt.show()"
   ]
  },
  {
   "cell_type": "markdown",
   "metadata": {},
   "source": [
    "## Step 4: Preprocessing the data / Feature Engineering\n",
    "\n",
    "Now that we have our training and testing datasets merged and ready to use, we need to start processing the raw data into something that will be useable by our machine learning algorithm. To begin with, we remove any html formatting that may appear in the reviews and perform some standard natural language processing in order to homogenize the data."
   ]
  },
  {
   "cell_type": "code",
   "execution_count": 336,
   "metadata": {},
   "outputs": [],
   "source": [
    "def calculate_diff(df, list_inputs, list_offsets, prefix):\n",
    "    '''Calculate multiple features based on the difference from previous data'''\n",
    "    for feat in list_inputs:\n",
    "        for offset in list_offsets:\n",
    "            df[str(prefix) +'_'+ str(offset)] = df[feat].diff(offset)\n",
    "    return df"
   ]
  },
  {
   "cell_type": "code",
   "execution_count": 337,
   "metadata": {},
   "outputs": [],
   "source": [
    "stock_data_process = calculate_diff(stock_data, list_inputs = ['Volume'], list_offsets = [5,10,20,40,80,160], prefix = 'VDiff')"
   ]
  },
  {
   "cell_type": "code",
   "execution_count": 338,
   "metadata": {},
   "outputs": [
    {
     "data": {
      "text/html": [
       "<div>\n",
       "<style scoped>\n",
       "    .dataframe tbody tr th:only-of-type {\n",
       "        vertical-align: middle;\n",
       "    }\n",
       "\n",
       "    .dataframe tbody tr th {\n",
       "        vertical-align: top;\n",
       "    }\n",
       "\n",
       "    .dataframe thead th {\n",
       "        text-align: right;\n",
       "    }\n",
       "</style>\n",
       "<table border=\"1\" class=\"dataframe\">\n",
       "  <thead>\n",
       "    <tr style=\"text-align: right;\">\n",
       "      <th></th>\n",
       "      <th>Date</th>\n",
       "      <th>Open</th>\n",
       "      <th>High</th>\n",
       "      <th>Low</th>\n",
       "      <th>Close</th>\n",
       "      <th>Adj Close</th>\n",
       "      <th>Volume</th>\n",
       "      <th>VDiff_5</th>\n",
       "      <th>VDiff_10</th>\n",
       "      <th>VDiff_20</th>\n",
       "      <th>VDiff_40</th>\n",
       "      <th>VDiff_80</th>\n",
       "      <th>VDiff_160</th>\n",
       "    </tr>\n",
       "  </thead>\n",
       "  <tbody>\n",
       "    <tr>\n",
       "      <th>0</th>\n",
       "      <td>2009-01-02</td>\n",
       "      <td>31.190</td>\n",
       "      <td>31.640</td>\n",
       "      <td>30.470</td>\n",
       "      <td>31.350</td>\n",
       "      <td>24.564</td>\n",
       "      <td>32494900</td>\n",
       "      <td>nan</td>\n",
       "      <td>nan</td>\n",
       "      <td>nan</td>\n",
       "      <td>nan</td>\n",
       "      <td>nan</td>\n",
       "      <td>nan</td>\n",
       "    </tr>\n",
       "    <tr>\n",
       "      <th>1</th>\n",
       "      <td>2009-01-05</td>\n",
       "      <td>30.730</td>\n",
       "      <td>30.770</td>\n",
       "      <td>29.080</td>\n",
       "      <td>29.250</td>\n",
       "      <td>22.919</td>\n",
       "      <td>44069400</td>\n",
       "      <td>nan</td>\n",
       "      <td>nan</td>\n",
       "      <td>nan</td>\n",
       "      <td>nan</td>\n",
       "      <td>nan</td>\n",
       "      <td>nan</td>\n",
       "    </tr>\n",
       "    <tr>\n",
       "      <th>2</th>\n",
       "      <td>2009-01-06</td>\n",
       "      <td>29.790</td>\n",
       "      <td>30.420</td>\n",
       "      <td>29.510</td>\n",
       "      <td>29.880</td>\n",
       "      <td>23.412</td>\n",
       "      <td>44216300</td>\n",
       "      <td>nan</td>\n",
       "      <td>nan</td>\n",
       "      <td>nan</td>\n",
       "      <td>nan</td>\n",
       "      <td>nan</td>\n",
       "      <td>nan</td>\n",
       "    </tr>\n",
       "    <tr>\n",
       "      <th>3</th>\n",
       "      <td>2009-01-07</td>\n",
       "      <td>29.150</td>\n",
       "      <td>29.400</td>\n",
       "      <td>28.000</td>\n",
       "      <td>28.090</td>\n",
       "      <td>22.010</td>\n",
       "      <td>42156500</td>\n",
       "      <td>nan</td>\n",
       "      <td>nan</td>\n",
       "      <td>nan</td>\n",
       "      <td>nan</td>\n",
       "      <td>nan</td>\n",
       "      <td>nan</td>\n",
       "    </tr>\n",
       "    <tr>\n",
       "      <th>4</th>\n",
       "      <td>2009-01-08</td>\n",
       "      <td>27.900</td>\n",
       "      <td>27.950</td>\n",
       "      <td>26.860</td>\n",
       "      <td>27.220</td>\n",
       "      <td>21.328</td>\n",
       "      <td>52075800</td>\n",
       "      <td>nan</td>\n",
       "      <td>nan</td>\n",
       "      <td>nan</td>\n",
       "      <td>nan</td>\n",
       "      <td>nan</td>\n",
       "      <td>nan</td>\n",
       "    </tr>\n",
       "  </tbody>\n",
       "</table>\n",
       "</div>"
      ],
      "text/plain": [
       "         Date   Open   High    Low  Close  Adj Close    Volume  VDiff_5  \\\n",
       "0  2009-01-02 31.190 31.640 30.470 31.350     24.564  32494900      nan   \n",
       "1  2009-01-05 30.730 30.770 29.080 29.250     22.919  44069400      nan   \n",
       "2  2009-01-06 29.790 30.420 29.510 29.880     23.412  44216300      nan   \n",
       "3  2009-01-07 29.150 29.400 28.000 28.090     22.010  42156500      nan   \n",
       "4  2009-01-08 27.900 27.950 26.860 27.220     21.328  52075800      nan   \n",
       "\n",
       "   VDiff_10  VDiff_20  VDiff_40  VDiff_80  VDiff_160  \n",
       "0       nan       nan       nan       nan        nan  \n",
       "1       nan       nan       nan       nan        nan  \n",
       "2       nan       nan       nan       nan        nan  \n",
       "3       nan       nan       nan       nan        nan  \n",
       "4       nan       nan       nan       nan        nan  "
      ]
     },
     "execution_count": 338,
     "metadata": {},
     "output_type": "execute_result"
    }
   ],
   "source": [
    "stock_data_process.head()"
   ]
  },
  {
   "cell_type": "code",
   "execution_count": 339,
   "metadata": {},
   "outputs": [],
   "source": [
    "def calculate_me(df, list_inputs, list_offsets, prefix):\n",
    "    '''Calculate the moving average for the selected variable'''\n",
    "    for feat in list_inputs:\n",
    "        for offset in list_offsets:\n",
    "            df[str(prefix) +'_'+ str(offset)] = df[feat].rolling(offset).mean()\n",
    "    return df"
   ]
  },
  {
   "cell_type": "code",
   "execution_count": 340,
   "metadata": {},
   "outputs": [],
   "source": [
    "stock_data_process = calculate_me(stock_data_process, list_inputs = ['Close'], list_offsets = [5,10,20,40,80,160], prefix = 'MA')"
   ]
  },
  {
   "cell_type": "code",
   "execution_count": 341,
   "metadata": {},
   "outputs": [
    {
     "data": {
      "text/html": [
       "<div>\n",
       "<style scoped>\n",
       "    .dataframe tbody tr th:only-of-type {\n",
       "        vertical-align: middle;\n",
       "    }\n",
       "\n",
       "    .dataframe tbody tr th {\n",
       "        vertical-align: top;\n",
       "    }\n",
       "\n",
       "    .dataframe thead th {\n",
       "        text-align: right;\n",
       "    }\n",
       "</style>\n",
       "<table border=\"1\" class=\"dataframe\">\n",
       "  <thead>\n",
       "    <tr style=\"text-align: right;\">\n",
       "      <th></th>\n",
       "      <th>Date</th>\n",
       "      <th>Open</th>\n",
       "      <th>High</th>\n",
       "      <th>Low</th>\n",
       "      <th>Close</th>\n",
       "      <th>Adj Close</th>\n",
       "      <th>Volume</th>\n",
       "      <th>VDiff_5</th>\n",
       "      <th>VDiff_10</th>\n",
       "      <th>VDiff_20</th>\n",
       "      <th>VDiff_40</th>\n",
       "      <th>VDiff_80</th>\n",
       "      <th>VDiff_160</th>\n",
       "      <th>MA_5</th>\n",
       "      <th>MA_10</th>\n",
       "      <th>MA_20</th>\n",
       "      <th>MA_40</th>\n",
       "      <th>MA_80</th>\n",
       "      <th>MA_160</th>\n",
       "    </tr>\n",
       "  </thead>\n",
       "  <tbody>\n",
       "    <tr>\n",
       "      <th>0</th>\n",
       "      <td>2009-01-02</td>\n",
       "      <td>31.190</td>\n",
       "      <td>31.640</td>\n",
       "      <td>30.470</td>\n",
       "      <td>31.350</td>\n",
       "      <td>24.564</td>\n",
       "      <td>32494900</td>\n",
       "      <td>nan</td>\n",
       "      <td>nan</td>\n",
       "      <td>nan</td>\n",
       "      <td>nan</td>\n",
       "      <td>nan</td>\n",
       "      <td>nan</td>\n",
       "      <td>nan</td>\n",
       "      <td>nan</td>\n",
       "      <td>nan</td>\n",
       "      <td>nan</td>\n",
       "      <td>nan</td>\n",
       "      <td>nan</td>\n",
       "    </tr>\n",
       "    <tr>\n",
       "      <th>1</th>\n",
       "      <td>2009-01-05</td>\n",
       "      <td>30.730</td>\n",
       "      <td>30.770</td>\n",
       "      <td>29.080</td>\n",
       "      <td>29.250</td>\n",
       "      <td>22.919</td>\n",
       "      <td>44069400</td>\n",
       "      <td>nan</td>\n",
       "      <td>nan</td>\n",
       "      <td>nan</td>\n",
       "      <td>nan</td>\n",
       "      <td>nan</td>\n",
       "      <td>nan</td>\n",
       "      <td>nan</td>\n",
       "      <td>nan</td>\n",
       "      <td>nan</td>\n",
       "      <td>nan</td>\n",
       "      <td>nan</td>\n",
       "      <td>nan</td>\n",
       "    </tr>\n",
       "    <tr>\n",
       "      <th>2</th>\n",
       "      <td>2009-01-06</td>\n",
       "      <td>29.790</td>\n",
       "      <td>30.420</td>\n",
       "      <td>29.510</td>\n",
       "      <td>29.880</td>\n",
       "      <td>23.412</td>\n",
       "      <td>44216300</td>\n",
       "      <td>nan</td>\n",
       "      <td>nan</td>\n",
       "      <td>nan</td>\n",
       "      <td>nan</td>\n",
       "      <td>nan</td>\n",
       "      <td>nan</td>\n",
       "      <td>nan</td>\n",
       "      <td>nan</td>\n",
       "      <td>nan</td>\n",
       "      <td>nan</td>\n",
       "      <td>nan</td>\n",
       "      <td>nan</td>\n",
       "    </tr>\n",
       "    <tr>\n",
       "      <th>3</th>\n",
       "      <td>2009-01-07</td>\n",
       "      <td>29.150</td>\n",
       "      <td>29.400</td>\n",
       "      <td>28.000</td>\n",
       "      <td>28.090</td>\n",
       "      <td>22.010</td>\n",
       "      <td>42156500</td>\n",
       "      <td>nan</td>\n",
       "      <td>nan</td>\n",
       "      <td>nan</td>\n",
       "      <td>nan</td>\n",
       "      <td>nan</td>\n",
       "      <td>nan</td>\n",
       "      <td>nan</td>\n",
       "      <td>nan</td>\n",
       "      <td>nan</td>\n",
       "      <td>nan</td>\n",
       "      <td>nan</td>\n",
       "      <td>nan</td>\n",
       "    </tr>\n",
       "    <tr>\n",
       "      <th>4</th>\n",
       "      <td>2009-01-08</td>\n",
       "      <td>27.900</td>\n",
       "      <td>27.950</td>\n",
       "      <td>26.860</td>\n",
       "      <td>27.220</td>\n",
       "      <td>21.328</td>\n",
       "      <td>52075800</td>\n",
       "      <td>nan</td>\n",
       "      <td>nan</td>\n",
       "      <td>nan</td>\n",
       "      <td>nan</td>\n",
       "      <td>nan</td>\n",
       "      <td>nan</td>\n",
       "      <td>29.158</td>\n",
       "      <td>nan</td>\n",
       "      <td>nan</td>\n",
       "      <td>nan</td>\n",
       "      <td>nan</td>\n",
       "      <td>nan</td>\n",
       "    </tr>\n",
       "  </tbody>\n",
       "</table>\n",
       "</div>"
      ],
      "text/plain": [
       "         Date   Open   High    Low  Close  Adj Close    Volume  VDiff_5  \\\n",
       "0  2009-01-02 31.190 31.640 30.470 31.350     24.564  32494900      nan   \n",
       "1  2009-01-05 30.730 30.770 29.080 29.250     22.919  44069400      nan   \n",
       "2  2009-01-06 29.790 30.420 29.510 29.880     23.412  44216300      nan   \n",
       "3  2009-01-07 29.150 29.400 28.000 28.090     22.010  42156500      nan   \n",
       "4  2009-01-08 27.900 27.950 26.860 27.220     21.328  52075800      nan   \n",
       "\n",
       "   VDiff_10  VDiff_20  VDiff_40  VDiff_80  VDiff_160   MA_5  MA_10  MA_20  \\\n",
       "0       nan       nan       nan       nan        nan    nan    nan    nan   \n",
       "1       nan       nan       nan       nan        nan    nan    nan    nan   \n",
       "2       nan       nan       nan       nan        nan    nan    nan    nan   \n",
       "3       nan       nan       nan       nan        nan    nan    nan    nan   \n",
       "4       nan       nan       nan       nan        nan 29.158    nan    nan   \n",
       "\n",
       "   MA_40  MA_80  MA_160  \n",
       "0    nan    nan     nan  \n",
       "1    nan    nan     nan  \n",
       "2    nan    nan     nan  \n",
       "3    nan    nan     nan  \n",
       "4    nan    nan     nan  "
      ]
     },
     "execution_count": 341,
     "metadata": {},
     "output_type": "execute_result"
    }
   ],
   "source": [
    "stock_data_process.head()"
   ]
  },
  {
   "cell_type": "code",
   "execution_count": 342,
   "metadata": {},
   "outputs": [],
   "source": [
    "def calculate_ratios(df, numerators, denominators):\n",
    "    '''Calculate ratio of the selected variables'''\n",
    "    for num in numerators:\n",
    "        for den in denominators:\n",
    "            df[str(num) +'/'+str(den)] = df[num] / df[den]\n",
    "    return df\n"
   ]
  },
  {
   "cell_type": "code",
   "execution_count": 343,
   "metadata": {},
   "outputs": [],
   "source": [
    "stock_data_process = calculate_ratios(stock_data_process, numerators = ['Open'], denominators = ['Close'])"
   ]
  },
  {
   "cell_type": "code",
   "execution_count": 344,
   "metadata": {},
   "outputs": [
    {
     "data": {
      "text/html": [
       "<div>\n",
       "<style scoped>\n",
       "    .dataframe tbody tr th:only-of-type {\n",
       "        vertical-align: middle;\n",
       "    }\n",
       "\n",
       "    .dataframe tbody tr th {\n",
       "        vertical-align: top;\n",
       "    }\n",
       "\n",
       "    .dataframe thead th {\n",
       "        text-align: right;\n",
       "    }\n",
       "</style>\n",
       "<table border=\"1\" class=\"dataframe\">\n",
       "  <thead>\n",
       "    <tr style=\"text-align: right;\">\n",
       "      <th></th>\n",
       "      <th>Date</th>\n",
       "      <th>Open</th>\n",
       "      <th>High</th>\n",
       "      <th>Low</th>\n",
       "      <th>Close</th>\n",
       "      <th>Adj Close</th>\n",
       "      <th>Volume</th>\n",
       "      <th>VDiff_5</th>\n",
       "      <th>VDiff_10</th>\n",
       "      <th>VDiff_20</th>\n",
       "      <th>VDiff_40</th>\n",
       "      <th>VDiff_80</th>\n",
       "      <th>VDiff_160</th>\n",
       "      <th>MA_5</th>\n",
       "      <th>MA_10</th>\n",
       "      <th>MA_20</th>\n",
       "      <th>MA_40</th>\n",
       "      <th>MA_80</th>\n",
       "      <th>MA_160</th>\n",
       "      <th>Open/Close</th>\n",
       "    </tr>\n",
       "  </thead>\n",
       "  <tbody>\n",
       "    <tr>\n",
       "      <th>0</th>\n",
       "      <td>2009-01-02</td>\n",
       "      <td>31.190</td>\n",
       "      <td>31.640</td>\n",
       "      <td>30.470</td>\n",
       "      <td>31.350</td>\n",
       "      <td>24.564</td>\n",
       "      <td>32494900</td>\n",
       "      <td>nan</td>\n",
       "      <td>nan</td>\n",
       "      <td>nan</td>\n",
       "      <td>nan</td>\n",
       "      <td>nan</td>\n",
       "      <td>nan</td>\n",
       "      <td>nan</td>\n",
       "      <td>nan</td>\n",
       "      <td>nan</td>\n",
       "      <td>nan</td>\n",
       "      <td>nan</td>\n",
       "      <td>nan</td>\n",
       "      <td>0.995</td>\n",
       "    </tr>\n",
       "    <tr>\n",
       "      <th>1</th>\n",
       "      <td>2009-01-05</td>\n",
       "      <td>30.730</td>\n",
       "      <td>30.770</td>\n",
       "      <td>29.080</td>\n",
       "      <td>29.250</td>\n",
       "      <td>22.919</td>\n",
       "      <td>44069400</td>\n",
       "      <td>nan</td>\n",
       "      <td>nan</td>\n",
       "      <td>nan</td>\n",
       "      <td>nan</td>\n",
       "      <td>nan</td>\n",
       "      <td>nan</td>\n",
       "      <td>nan</td>\n",
       "      <td>nan</td>\n",
       "      <td>nan</td>\n",
       "      <td>nan</td>\n",
       "      <td>nan</td>\n",
       "      <td>nan</td>\n",
       "      <td>1.051</td>\n",
       "    </tr>\n",
       "    <tr>\n",
       "      <th>2</th>\n",
       "      <td>2009-01-06</td>\n",
       "      <td>29.790</td>\n",
       "      <td>30.420</td>\n",
       "      <td>29.510</td>\n",
       "      <td>29.880</td>\n",
       "      <td>23.412</td>\n",
       "      <td>44216300</td>\n",
       "      <td>nan</td>\n",
       "      <td>nan</td>\n",
       "      <td>nan</td>\n",
       "      <td>nan</td>\n",
       "      <td>nan</td>\n",
       "      <td>nan</td>\n",
       "      <td>nan</td>\n",
       "      <td>nan</td>\n",
       "      <td>nan</td>\n",
       "      <td>nan</td>\n",
       "      <td>nan</td>\n",
       "      <td>nan</td>\n",
       "      <td>0.997</td>\n",
       "    </tr>\n",
       "    <tr>\n",
       "      <th>3</th>\n",
       "      <td>2009-01-07</td>\n",
       "      <td>29.150</td>\n",
       "      <td>29.400</td>\n",
       "      <td>28.000</td>\n",
       "      <td>28.090</td>\n",
       "      <td>22.010</td>\n",
       "      <td>42156500</td>\n",
       "      <td>nan</td>\n",
       "      <td>nan</td>\n",
       "      <td>nan</td>\n",
       "      <td>nan</td>\n",
       "      <td>nan</td>\n",
       "      <td>nan</td>\n",
       "      <td>nan</td>\n",
       "      <td>nan</td>\n",
       "      <td>nan</td>\n",
       "      <td>nan</td>\n",
       "      <td>nan</td>\n",
       "      <td>nan</td>\n",
       "      <td>1.038</td>\n",
       "    </tr>\n",
       "    <tr>\n",
       "      <th>4</th>\n",
       "      <td>2009-01-08</td>\n",
       "      <td>27.900</td>\n",
       "      <td>27.950</td>\n",
       "      <td>26.860</td>\n",
       "      <td>27.220</td>\n",
       "      <td>21.328</td>\n",
       "      <td>52075800</td>\n",
       "      <td>nan</td>\n",
       "      <td>nan</td>\n",
       "      <td>nan</td>\n",
       "      <td>nan</td>\n",
       "      <td>nan</td>\n",
       "      <td>nan</td>\n",
       "      <td>29.158</td>\n",
       "      <td>nan</td>\n",
       "      <td>nan</td>\n",
       "      <td>nan</td>\n",
       "      <td>nan</td>\n",
       "      <td>nan</td>\n",
       "      <td>1.025</td>\n",
       "    </tr>\n",
       "    <tr>\n",
       "      <th>5</th>\n",
       "      <td>2009-01-09</td>\n",
       "      <td>27.550</td>\n",
       "      <td>27.550</td>\n",
       "      <td>25.810</td>\n",
       "      <td>25.970</td>\n",
       "      <td>20.349</td>\n",
       "      <td>42597500</td>\n",
       "      <td>10,102,600.000</td>\n",
       "      <td>nan</td>\n",
       "      <td>nan</td>\n",
       "      <td>nan</td>\n",
       "      <td>nan</td>\n",
       "      <td>nan</td>\n",
       "      <td>28.082</td>\n",
       "      <td>nan</td>\n",
       "      <td>nan</td>\n",
       "      <td>nan</td>\n",
       "      <td>nan</td>\n",
       "      <td>nan</td>\n",
       "      <td>1.061</td>\n",
       "    </tr>\n",
       "    <tr>\n",
       "      <th>6</th>\n",
       "      <td>2009-01-12</td>\n",
       "      <td>25.920</td>\n",
       "      <td>26.150</td>\n",
       "      <td>24.500</td>\n",
       "      <td>24.910</td>\n",
       "      <td>19.518</td>\n",
       "      <td>59360000</td>\n",
       "      <td>15,290,600.000</td>\n",
       "      <td>nan</td>\n",
       "      <td>nan</td>\n",
       "      <td>nan</td>\n",
       "      <td>nan</td>\n",
       "      <td>nan</td>\n",
       "      <td>27.214</td>\n",
       "      <td>nan</td>\n",
       "      <td>nan</td>\n",
       "      <td>nan</td>\n",
       "      <td>nan</td>\n",
       "      <td>nan</td>\n",
       "      <td>1.041</td>\n",
       "    </tr>\n",
       "    <tr>\n",
       "      <th>7</th>\n",
       "      <td>2009-01-13</td>\n",
       "      <td>25.210</td>\n",
       "      <td>26.590</td>\n",
       "      <td>24.270</td>\n",
       "      <td>26.350</td>\n",
       "      <td>20.646</td>\n",
       "      <td>73422800</td>\n",
       "      <td>29,206,500.000</td>\n",
       "      <td>nan</td>\n",
       "      <td>nan</td>\n",
       "      <td>nan</td>\n",
       "      <td>nan</td>\n",
       "      <td>nan</td>\n",
       "      <td>26.508</td>\n",
       "      <td>nan</td>\n",
       "      <td>nan</td>\n",
       "      <td>nan</td>\n",
       "      <td>nan</td>\n",
       "      <td>nan</td>\n",
       "      <td>0.957</td>\n",
       "    </tr>\n",
       "    <tr>\n",
       "      <th>8</th>\n",
       "      <td>2009-01-14</td>\n",
       "      <td>25.590</td>\n",
       "      <td>26.280</td>\n",
       "      <td>24.760</td>\n",
       "      <td>25.910</td>\n",
       "      <td>20.302</td>\n",
       "      <td>73907300</td>\n",
       "      <td>31,750,800.000</td>\n",
       "      <td>nan</td>\n",
       "      <td>nan</td>\n",
       "      <td>nan</td>\n",
       "      <td>nan</td>\n",
       "      <td>nan</td>\n",
       "      <td>26.072</td>\n",
       "      <td>nan</td>\n",
       "      <td>nan</td>\n",
       "      <td>nan</td>\n",
       "      <td>nan</td>\n",
       "      <td>nan</td>\n",
       "      <td>0.988</td>\n",
       "    </tr>\n",
       "    <tr>\n",
       "      <th>9</th>\n",
       "      <td>2009-01-15</td>\n",
       "      <td>26.540</td>\n",
       "      <td>27.050</td>\n",
       "      <td>23.760</td>\n",
       "      <td>24.340</td>\n",
       "      <td>19.072</td>\n",
       "      <td>136759300</td>\n",
       "      <td>84,683,500.000</td>\n",
       "      <td>nan</td>\n",
       "      <td>nan</td>\n",
       "      <td>nan</td>\n",
       "      <td>nan</td>\n",
       "      <td>nan</td>\n",
       "      <td>25.496</td>\n",
       "      <td>27.327</td>\n",
       "      <td>nan</td>\n",
       "      <td>nan</td>\n",
       "      <td>nan</td>\n",
       "      <td>nan</td>\n",
       "      <td>1.090</td>\n",
       "    </tr>\n",
       "  </tbody>\n",
       "</table>\n",
       "</div>"
      ],
      "text/plain": [
       "         Date   Open   High    Low  Close  Adj Close     Volume  \\\n",
       "0  2009-01-02 31.190 31.640 30.470 31.350     24.564   32494900   \n",
       "1  2009-01-05 30.730 30.770 29.080 29.250     22.919   44069400   \n",
       "2  2009-01-06 29.790 30.420 29.510 29.880     23.412   44216300   \n",
       "3  2009-01-07 29.150 29.400 28.000 28.090     22.010   42156500   \n",
       "4  2009-01-08 27.900 27.950 26.860 27.220     21.328   52075800   \n",
       "5  2009-01-09 27.550 27.550 25.810 25.970     20.349   42597500   \n",
       "6  2009-01-12 25.920 26.150 24.500 24.910     19.518   59360000   \n",
       "7  2009-01-13 25.210 26.590 24.270 26.350     20.646   73422800   \n",
       "8  2009-01-14 25.590 26.280 24.760 25.910     20.302   73907300   \n",
       "9  2009-01-15 26.540 27.050 23.760 24.340     19.072  136759300   \n",
       "\n",
       "         VDiff_5  VDiff_10  VDiff_20  VDiff_40  VDiff_80  VDiff_160   MA_5  \\\n",
       "0            nan       nan       nan       nan       nan        nan    nan   \n",
       "1            nan       nan       nan       nan       nan        nan    nan   \n",
       "2            nan       nan       nan       nan       nan        nan    nan   \n",
       "3            nan       nan       nan       nan       nan        nan    nan   \n",
       "4            nan       nan       nan       nan       nan        nan 29.158   \n",
       "5 10,102,600.000       nan       nan       nan       nan        nan 28.082   \n",
       "6 15,290,600.000       nan       nan       nan       nan        nan 27.214   \n",
       "7 29,206,500.000       nan       nan       nan       nan        nan 26.508   \n",
       "8 31,750,800.000       nan       nan       nan       nan        nan 26.072   \n",
       "9 84,683,500.000       nan       nan       nan       nan        nan 25.496   \n",
       "\n",
       "   MA_10  MA_20  MA_40  MA_80  MA_160  Open/Close  \n",
       "0    nan    nan    nan    nan     nan       0.995  \n",
       "1    nan    nan    nan    nan     nan       1.051  \n",
       "2    nan    nan    nan    nan     nan       0.997  \n",
       "3    nan    nan    nan    nan     nan       1.038  \n",
       "4    nan    nan    nan    nan     nan       1.025  \n",
       "5    nan    nan    nan    nan     nan       1.061  \n",
       "6    nan    nan    nan    nan     nan       1.041  \n",
       "7    nan    nan    nan    nan     nan       0.957  \n",
       "8    nan    nan    nan    nan     nan       0.988  \n",
       "9 27.327    nan    nan    nan     nan       1.090  "
      ]
     },
     "execution_count": 344,
     "metadata": {},
     "output_type": "execute_result"
    }
   ],
   "source": [
    "stock_data_process.head(10)"
   ]
  },
  {
   "cell_type": "code",
   "execution_count": 345,
   "metadata": {},
   "outputs": [],
   "source": [
    "def remove_errors(df):\n",
    "    '''Remove NaNs from the dataset, created by the lag features'''\n",
    "    df = df.dropna()\n",
    "    return df"
   ]
  },
  {
   "cell_type": "code",
   "execution_count": 346,
   "metadata": {},
   "outputs": [],
   "source": [
    "stock_data_process = remove_errors(stock_data_process)"
   ]
  },
  {
   "cell_type": "code",
   "execution_count": 347,
   "metadata": {},
   "outputs": [],
   "source": [
    "def normalize_data(df, avoid_list, target):\n",
    "    '''Min-Max Scaler normalization function'''\n",
    "    temp = df.copy()\n",
    "    for feat in temp.columns:\n",
    "        if feat not in avoid_list:\n",
    "            min_max_scaler = sklearn.preprocessing.MinMaxScaler()\n",
    "            temp[feat] = min_max_scaler.fit_transform(temp[feat].values.reshape(-1,1))\n",
    "            if feat == target:\n",
    "                print('Saving scaler parameters for inverse calculations...')\n",
    "                scaler = min_max_scaler\n",
    "    print('Done...')\n",
    "    return temp, scaler"
   ]
  },
  {
   "cell_type": "code",
   "execution_count": 348,
   "metadata": {},
   "outputs": [
    {
     "name": "stdout",
     "output_type": "stream",
     "text": [
      "Saving scaler parameters for inverse calculations...\n",
      "Done...\n"
     ]
    }
   ],
   "source": [
    "avoid_list = ['Date']\n",
    "stock_data_normalized, scaler = normalize_data(stock_data_process, avoid_list = avoid_list, target = 'Close')"
   ]
  },
  {
   "cell_type": "code",
   "execution_count": 349,
   "metadata": {},
   "outputs": [
    {
     "data": {
      "text/html": [
       "<div>\n",
       "<style scoped>\n",
       "    .dataframe tbody tr th:only-of-type {\n",
       "        vertical-align: middle;\n",
       "    }\n",
       "\n",
       "    .dataframe tbody tr th {\n",
       "        vertical-align: top;\n",
       "    }\n",
       "\n",
       "    .dataframe thead th {\n",
       "        text-align: right;\n",
       "    }\n",
       "</style>\n",
       "<table border=\"1\" class=\"dataframe\">\n",
       "  <thead>\n",
       "    <tr style=\"text-align: right;\">\n",
       "      <th></th>\n",
       "      <th>Date</th>\n",
       "      <th>Open</th>\n",
       "      <th>High</th>\n",
       "      <th>Low</th>\n",
       "      <th>Close</th>\n",
       "      <th>Adj Close</th>\n",
       "      <th>Volume</th>\n",
       "      <th>VDiff_5</th>\n",
       "      <th>VDiff_10</th>\n",
       "      <th>VDiff_20</th>\n",
       "      <th>VDiff_40</th>\n",
       "      <th>VDiff_80</th>\n",
       "      <th>VDiff_160</th>\n",
       "      <th>MA_5</th>\n",
       "      <th>MA_10</th>\n",
       "      <th>MA_20</th>\n",
       "      <th>MA_40</th>\n",
       "      <th>MA_80</th>\n",
       "      <th>MA_160</th>\n",
       "      <th>Open/Close</th>\n",
       "    </tr>\n",
       "  </thead>\n",
       "  <tbody>\n",
       "    <tr>\n",
       "      <th>160</th>\n",
       "      <td>2009-08-21</td>\n",
       "      <td>0.161</td>\n",
       "      <td>0.163</td>\n",
       "      <td>0.163</td>\n",
       "      <td>0.169</td>\n",
       "      <td>0.123</td>\n",
       "      <td>0.183</td>\n",
       "      <td>0.434</td>\n",
       "      <td>0.436</td>\n",
       "      <td>0.541</td>\n",
       "      <td>0.493</td>\n",
       "      <td>0.443</td>\n",
       "      <td>0.619</td>\n",
       "      <td>0.149</td>\n",
       "      <td>0.144</td>\n",
       "      <td>0.116</td>\n",
       "      <td>0.071</td>\n",
       "      <td>0.053</td>\n",
       "      <td>0.000</td>\n",
       "      <td>0.411</td>\n",
       "    </tr>\n",
       "    <tr>\n",
       "      <th>161</th>\n",
       "      <td>2009-08-24</td>\n",
       "      <td>0.172</td>\n",
       "      <td>0.168</td>\n",
       "      <td>0.167</td>\n",
       "      <td>0.162</td>\n",
       "      <td>0.118</td>\n",
       "      <td>0.172</td>\n",
       "      <td>0.424</td>\n",
       "      <td>0.488</td>\n",
       "      <td>0.548</td>\n",
       "      <td>0.516</td>\n",
       "      <td>0.409</td>\n",
       "      <td>0.575</td>\n",
       "      <td>0.154</td>\n",
       "      <td>0.144</td>\n",
       "      <td>0.119</td>\n",
       "      <td>0.073</td>\n",
       "      <td>0.054</td>\n",
       "      <td>0.001</td>\n",
       "      <td>0.685</td>\n",
       "    </tr>\n",
       "    <tr>\n",
       "      <th>162</th>\n",
       "      <td>2009-08-25</td>\n",
       "      <td>0.167</td>\n",
       "      <td>0.166</td>\n",
       "      <td>0.171</td>\n",
       "      <td>0.168</td>\n",
       "      <td>0.123</td>\n",
       "      <td>0.146</td>\n",
       "      <td>0.438</td>\n",
       "      <td>0.455</td>\n",
       "      <td>0.535</td>\n",
       "      <td>0.535</td>\n",
       "      <td>0.466</td>\n",
       "      <td>0.557</td>\n",
       "      <td>0.158</td>\n",
       "      <td>0.147</td>\n",
       "      <td>0.122</td>\n",
       "      <td>0.076</td>\n",
       "      <td>0.056</td>\n",
       "      <td>0.002</td>\n",
       "      <td>0.512</td>\n",
       "    </tr>\n",
       "    <tr>\n",
       "      <th>163</th>\n",
       "      <td>2009-08-26</td>\n",
       "      <td>0.167</td>\n",
       "      <td>0.162</td>\n",
       "      <td>0.167</td>\n",
       "      <td>0.165</td>\n",
       "      <td>0.120</td>\n",
       "      <td>0.132</td>\n",
       "      <td>0.428</td>\n",
       "      <td>0.467</td>\n",
       "      <td>0.524</td>\n",
       "      <td>0.513</td>\n",
       "      <td>0.369</td>\n",
       "      <td>0.554</td>\n",
       "      <td>0.162</td>\n",
       "      <td>0.148</td>\n",
       "      <td>0.125</td>\n",
       "      <td>0.079</td>\n",
       "      <td>0.057</td>\n",
       "      <td>0.003</td>\n",
       "      <td>0.558</td>\n",
       "    </tr>\n",
       "    <tr>\n",
       "      <th>164</th>\n",
       "      <td>2009-08-27</td>\n",
       "      <td>0.163</td>\n",
       "      <td>0.161</td>\n",
       "      <td>0.163</td>\n",
       "      <td>0.167</td>\n",
       "      <td>0.121</td>\n",
       "      <td>0.118</td>\n",
       "      <td>0.418</td>\n",
       "      <td>0.467</td>\n",
       "      <td>0.489</td>\n",
       "      <td>0.513</td>\n",
       "      <td>0.463</td>\n",
       "      <td>0.514</td>\n",
       "      <td>0.165</td>\n",
       "      <td>0.149</td>\n",
       "      <td>0.128</td>\n",
       "      <td>0.082</td>\n",
       "      <td>0.058</td>\n",
       "      <td>0.005</td>\n",
       "      <td>0.477</td>\n",
       "    </tr>\n",
       "  </tbody>\n",
       "</table>\n",
       "</div>"
      ],
      "text/plain": [
       "           Date  Open  High   Low  Close  Adj Close  Volume  VDiff_5  \\\n",
       "160  2009-08-21 0.161 0.163 0.163  0.169      0.123   0.183    0.434   \n",
       "161  2009-08-24 0.172 0.168 0.167  0.162      0.118   0.172    0.424   \n",
       "162  2009-08-25 0.167 0.166 0.171  0.168      0.123   0.146    0.438   \n",
       "163  2009-08-26 0.167 0.162 0.167  0.165      0.120   0.132    0.428   \n",
       "164  2009-08-27 0.163 0.161 0.163  0.167      0.121   0.118    0.418   \n",
       "\n",
       "     VDiff_10  VDiff_20  VDiff_40  VDiff_80  VDiff_160  MA_5  MA_10  MA_20  \\\n",
       "160     0.436     0.541     0.493     0.443      0.619 0.149  0.144  0.116   \n",
       "161     0.488     0.548     0.516     0.409      0.575 0.154  0.144  0.119   \n",
       "162     0.455     0.535     0.535     0.466      0.557 0.158  0.147  0.122   \n",
       "163     0.467     0.524     0.513     0.369      0.554 0.162  0.148  0.125   \n",
       "164     0.467     0.489     0.513     0.463      0.514 0.165  0.149  0.128   \n",
       "\n",
       "     MA_40  MA_80  MA_160  Open/Close  \n",
       "160  0.071  0.053   0.000       0.411  \n",
       "161  0.073  0.054   0.001       0.685  \n",
       "162  0.076  0.056   0.002       0.512  \n",
       "163  0.079  0.057   0.003       0.558  \n",
       "164  0.082  0.058   0.005       0.477  "
      ]
     },
     "execution_count": 349,
     "metadata": {},
     "output_type": "execute_result"
    }
   ],
   "source": [
    "stock_data_normalized.head()"
   ]
  },
  {
   "cell_type": "markdown",
   "metadata": {},
   "source": [
    "## Step 5: Preparing and splitting the data\n",
    "\n",
    "Given that this is clean tabular data, we don't need to do any processing. However, we do need to split the rows in the dataset up into train, test and validation sets."
   ]
  },
  {
   "cell_type": "code",
   "execution_count": 350,
   "metadata": {},
   "outputs": [],
   "source": [
    "def conver_to_array(df, list_features, target):\n",
    "    '''Convert a dataframe into a numpy array to train the model'''\n",
    "    temp = df[target + list_features]\n",
    "    float_data = temp.as_matrix()\n",
    "    return float_data"
   ]
  },
  {
   "cell_type": "code",
   "execution_count": 351,
   "metadata": {},
   "outputs": [],
   "source": [
    "input_list = ['Open','High','Low','Close','Adj Close','Volume','VDiff_5','VDiff_10','VDiff_20','VDiff_40','VDiff_80','VDiff_160','MA_5','MA_10','MA_20','MA_40','MA_80','MA_160','Open/Close']\n",
    "data = conver_to_array(stock_data_normalized, list_features = input_list, target = ['Close'])"
   ]
  },
  {
   "cell_type": "code",
   "execution_count": 352,
   "metadata": {},
   "outputs": [
    {
     "name": "stdout",
     "output_type": "stream",
     "text": [
      "Min: 0    / Max: 2123 Train Indexes\n",
      "Min: 2124 / Max: 2388 Validation Indexes\n",
      "Min: 2389 / Max: 2654 Test Indexes\n"
     ]
    }
   ],
   "source": [
    "# Indexes train, validation and test datasets\n",
    "train_percentage = 0.80\n",
    "val_percentage = 0.10\n",
    "test_percentage = 1.0 - (train_percentage + val_percentage)\n",
    "\n",
    "min_train_idx, max_train_idx = 0, int(stock_data.shape[0] * train_percentage)\n",
    "min_val_idx, max_val_idx = max_train_idx + 1, max_train_idx + int(stock_data.shape[0] * val_percentage)\n",
    "min_test_idx, max_test_idx = max_val_idx + 1,  stock_data.shape[0] \n",
    "\n",
    "print('Min: {}    / Max: {} Train Indexes'.format(min_train_idx, max_train_idx))\n",
    "print('Min: {} / Max: {} Validation Indexes'.format(min_val_idx, max_val_idx))\n",
    "print('Min: {} / Max: {} Test Indexes'.format(min_test_idx, max_test_idx))"
   ]
  },
  {
   "cell_type": "code",
   "execution_count": 353,
   "metadata": {},
   "outputs": [
    {
     "name": "stdout",
     "output_type": "stream",
     "text": [
      "Train size: 2123 / Validation size: 264 / Test size: 105\n"
     ]
    }
   ],
   "source": [
    "train_data = data[min_train_idx: max_train_idx]\n",
    "validation_data = data[min_val_idx: max_val_idx]\n",
    "test_data = data[min_test_idx: max_test_idx]\n",
    "print('Train size: {} / Validation size: {} / Test size: {}'.format(train_data.shape[0], validation_data.shape[0], test_data.shape[0]))"
   ]
  },
  {
   "cell_type": "code",
   "execution_count": 354,
   "metadata": {},
   "outputs": [
    {
     "name": "stdout",
     "output_type": "stream",
     "text": [
      "Train generator steps: 131\n",
      "Validation generator steps: 234\n"
     ]
    }
   ],
   "source": [
    "N_INPUTS = 30\n",
    "BATCH_SIZE = 16\n",
    "TEST_BATCH_SIZE = 1\n",
    "\n",
    "train_generator = TimeseriesGenerator(train_data, train_data[:,0], length = N_INPUTS, batch_size = BATCH_SIZE)\n",
    "val_generator = TimeseriesGenerator(validation_data, validation_data[:,0], length = N_INPUTS, batch_size = TEST_BATCH_SIZE)\n",
    "\n",
    "train_steps = len(train_generator)\n",
    "val_steps = len(val_generator)\n",
    "print('Train generator steps: {}'.format(train_steps))\n",
    "print('Validation generator steps: {}'.format(val_steps))"
   ]
  },
  {
   "cell_type": "code",
   "execution_count": 362,
   "metadata": {},
   "outputs": [
    {
     "data": {
      "image/png": "[encoded data removed]",
      "text/plain": [
       "<Figure size 864x360 with 1 Axes>"
      ]
     },
     "metadata": {},
     "output_type": "display_data"
    }
   ],
   "source": [
    "plt.figure(figsize = (12,5))\n",
    "plt.plot(range(stock_data[min_train_idx:max_test_idx].shape[0]), (stock_data['Low'][min_train_idx:max_test_idx] + stock_data['High'][min_train_idx:max_test_idx]) / 2.0)\n",
    "plt.plot(range(stock_data[min_train_idx:max_val_idx].shape[0]), (stock_data['Low'][min_train_idx:max_val_idx] + stock_data['High'][min_train_idx:max_val_idx]) / 2.0)\n",
    "plt.plot(range(stock_data[min_train_idx:max_train_idx].shape[0]), (stock_data['Low'][min_train_idx:max_train_idx] + stock_data['High'][min_train_idx:max_train_idx]) / 2.0)\n",
    "#plt.xticks(range(0, stock_data.shape[0], 500), stock_data['Date'].loc[::500], rotation = 45, fontsize = 8)\n",
    "plt.xlabel('Date', fontsize = 14)\n",
    "plt.ylabel('Mideum Price',fontsize = 14)\n",
    "plt.show()"
   ]
  },
  {
   "cell_type": "markdown",
   "metadata": {},
   "source": [
    "## Step 6: Computing the common-sense, non-machine learning baseline\n",
    "\n",
    "Now that we have the training and validation data uploaded to S3, we can construct our XGBoost model and train it. We will be making use of the high level SageMaker API to do this which will make the resulting code a little easier to read at the cost of some flexibility.\n",
    "\n",
    "To construct an estimator, the object which we wish to train, we need to provide the location of a container which contains the training code. Since we are using a built in algorithm this container is provided by Amazon. However, the full name of the container is a bit lengthy and depends on the region that we are operating in. Fortunately, SageMaker provides a useful utility method called `get_image_uri` that constructs the image name for us.\n",
    "\n",
    "To use the `get_image_uri` method we need to provide it with our current region, which can be obtained from the session object, and the name of the algorithm we wish to use. In this notebook we will be using XGBoost however you could try another algorithm if you wish. The list of built in algorithms can be found in the list of [Common Parameters](https://docs.aws.amazon.com/sagemaker/latest/dg/sagemaker-algo-docker-registry-paths.html).\n"
   ]
  },
  {
   "cell_type": "code",
   "execution_count": 363,
   "metadata": {},
   "outputs": [
    {
     "name": "stdout",
     "output_type": "stream",
     "text": [
      "0.012022926417940557\n"
     ]
    }
   ],
   "source": [
    "def evaluate_naive_method():\n",
    "    batch_maes = []\n",
    "    for step in range(val_steps):\n",
    "        samples, targets = (val_generator[step])\n",
    "        preds = samples[:, -1, 0]\n",
    "        mae = np.mean(np.abs(preds - targets))\n",
    "        batch_maes.append(mae)\n",
    "    return (np.mean(batch_maes))\n",
    "    \n",
    "\n",
    "mean_absolute_error = evaluate_naive_method()\n",
    "print(mean_absolute_error)"
   ]
  },
  {
   "cell_type": "markdown",
   "metadata": {},
   "source": [
    "## Step 7: Uploading the training and validation files to S3\n",
    "\n",
    "When a training job is constructed using SageMaker, a container is executed which performs the training operation. This container is given access to data that is stored in S3. This means that we need to upload the data we want to use for training to S3. We can use the SageMaker API to do this and hide some of the details.\n",
    "\n",
    "### Save the data locally\n",
    "\n",
    "First we need to create the train and validation csv files which we will then upload to S3.\n",
    "\n"
   ]
  },
  {
   "cell_type": "code",
   "execution_count": 356,
   "metadata": {},
   "outputs": [
    {
     "ename": "NameError",
     "evalue": "name 'os' is not defined",
     "output_type": "error",
     "traceback": [
      "\u001b[0;31m---------------------------------------------------------------------------\u001b[0m",
      "\u001b[0;31mNameError\u001b[0m                                 Traceback (most recent call last)",
      "\u001b[0;32m<ipython-input-356-152e3e7e22f3>\u001b[0m in \u001b[0;36m<module>\u001b[0;34m()\u001b[0m\n\u001b[1;32m      1\u001b[0m \u001b[0;31m# This is our local data directory. We need to make sure that it exists.\u001b[0m\u001b[0;34m\u001b[0m\u001b[0;34m\u001b[0m\u001b[0m\n\u001b[1;32m      2\u001b[0m \u001b[0mdata_dir\u001b[0m \u001b[0;34m=\u001b[0m \u001b[0;34m'../data/boston'\u001b[0m\u001b[0;34m\u001b[0m\u001b[0m\n\u001b[0;32m----> 3\u001b[0;31m \u001b[0;32mif\u001b[0m \u001b[0;32mnot\u001b[0m \u001b[0mos\u001b[0m\u001b[0;34m.\u001b[0m\u001b[0mpath\u001b[0m\u001b[0;34m.\u001b[0m\u001b[0mexists\u001b[0m\u001b[0;34m(\u001b[0m\u001b[0mdata_dir\u001b[0m\u001b[0;34m)\u001b[0m\u001b[0;34m:\u001b[0m\u001b[0;34m\u001b[0m\u001b[0m\n\u001b[0m\u001b[1;32m      4\u001b[0m     \u001b[0mos\u001b[0m\u001b[0;34m.\u001b[0m\u001b[0mmakedirs\u001b[0m\u001b[0;34m(\u001b[0m\u001b[0mdata_dir\u001b[0m\u001b[0;34m)\u001b[0m\u001b[0;34m\u001b[0m\u001b[0m\n",
      "\u001b[0;31mNameError\u001b[0m: name 'os' is not defined"
     ]
    }
   ],
   "source": [
    "# This is our local data directory. We need to make sure that it exists.\n",
    "data_dir = '../data/boston'\n",
    "if not os.path.exists(data_dir):\n",
    "    os.makedirs(data_dir)"
   ]
  },
  {
   "cell_type": "code",
   "execution_count": 357,
   "metadata": {},
   "outputs": [
    {
     "ename": "NameError",
     "evalue": "name 'Y_val' is not defined",
     "output_type": "error",
     "traceback": [
      "\u001b[0;31m---------------------------------------------------------------------------\u001b[0m",
      "\u001b[0;31mNameError\u001b[0m                                 Traceback (most recent call last)",
      "\u001b[0;32m<ipython-input-357-a10f4976dd86>\u001b[0m in \u001b[0;36m<module>\u001b[0;34m()\u001b[0m\n\u001b[1;32m      3\u001b[0m \u001b[0;31m# that the first entry in each row is the target variable.\u001b[0m\u001b[0;34m\u001b[0m\u001b[0;34m\u001b[0m\u001b[0m\n\u001b[1;32m      4\u001b[0m \u001b[0;34m\u001b[0m\u001b[0m\n\u001b[0;32m----> 5\u001b[0;31m \u001b[0mpd\u001b[0m\u001b[0;34m.\u001b[0m\u001b[0mconcat\u001b[0m\u001b[0;34m(\u001b[0m\u001b[0;34m[\u001b[0m\u001b[0mY_val\u001b[0m\u001b[0;34m,\u001b[0m \u001b[0mX_val\u001b[0m\u001b[0;34m]\u001b[0m\u001b[0;34m,\u001b[0m \u001b[0maxis\u001b[0m\u001b[0;34m=\u001b[0m\u001b[0;36m1\u001b[0m\u001b[0;34m)\u001b[0m\u001b[0;34m.\u001b[0m\u001b[0mto_csv\u001b[0m\u001b[0;34m(\u001b[0m\u001b[0mos\u001b[0m\u001b[0;34m.\u001b[0m\u001b[0mpath\u001b[0m\u001b[0;34m.\u001b[0m\u001b[0mjoin\u001b[0m\u001b[0;34m(\u001b[0m\u001b[0mdata_dir\u001b[0m\u001b[0;34m,\u001b[0m \u001b[0;34m'validation.csv'\u001b[0m\u001b[0;34m)\u001b[0m\u001b[0;34m,\u001b[0m \u001b[0mheader\u001b[0m\u001b[0;34m=\u001b[0m\u001b[0;32mFalse\u001b[0m\u001b[0;34m,\u001b[0m \u001b[0mindex\u001b[0m\u001b[0;34m=\u001b[0m\u001b[0;32mFalse\u001b[0m\u001b[0;34m)\u001b[0m\u001b[0;34m\u001b[0m\u001b[0m\n\u001b[0m\u001b[1;32m      6\u001b[0m \u001b[0mpd\u001b[0m\u001b[0;34m.\u001b[0m\u001b[0mconcat\u001b[0m\u001b[0;34m(\u001b[0m\u001b[0;34m[\u001b[0m\u001b[0mY_train\u001b[0m\u001b[0;34m,\u001b[0m \u001b[0mX_train\u001b[0m\u001b[0;34m]\u001b[0m\u001b[0;34m,\u001b[0m \u001b[0maxis\u001b[0m\u001b[0;34m=\u001b[0m\u001b[0;36m1\u001b[0m\u001b[0;34m)\u001b[0m\u001b[0;34m.\u001b[0m\u001b[0mto_csv\u001b[0m\u001b[0;34m(\u001b[0m\u001b[0mos\u001b[0m\u001b[0;34m.\u001b[0m\u001b[0mpath\u001b[0m\u001b[0;34m.\u001b[0m\u001b[0mjoin\u001b[0m\u001b[0;34m(\u001b[0m\u001b[0mdata_dir\u001b[0m\u001b[0;34m,\u001b[0m \u001b[0;34m'train.csv'\u001b[0m\u001b[0;34m)\u001b[0m\u001b[0;34m,\u001b[0m \u001b[0mheader\u001b[0m\u001b[0;34m=\u001b[0m\u001b[0;32mFalse\u001b[0m\u001b[0;34m,\u001b[0m \u001b[0mindex\u001b[0m\u001b[0;34m=\u001b[0m\u001b[0;32mFalse\u001b[0m\u001b[0;34m)\u001b[0m\u001b[0;34m\u001b[0m\u001b[0m\n",
      "\u001b[0;31mNameError\u001b[0m: name 'Y_val' is not defined"
     ]
    }
   ],
   "source": [
    "# We use pandas to save our train and validation data to csv files. Note that we make sure not to include header\n",
    "# information or an index as this is required by the built in algorithms provided by Amazon. Also, it is assumed\n",
    "# that the first entry in each row is the target variable.\n",
    "\n",
    "pd.concat([Y_val, X_val], axis=1).to_csv(os.path.join(data_dir, 'validation.csv'), header=False, index=False)\n",
    "pd.concat([Y_train, X_train], axis=1).to_csv(os.path.join(data_dir, 'train.csv'), header=False, index=False)"
   ]
  },
  {
   "cell_type": "markdown",
   "metadata": {},
   "source": [
    "### Upload to S3\n",
    "\n",
    "Since we are currently running inside of a SageMaker session, we can use the object which represents this session to upload our data to the 'default' S3 bucket. Note that it is good practice to provide a custom prefix (essentially an S3 folder) to make sure that you don't accidentally interfere with data uploaded from some other notebook or project."
   ]
  },
  {
   "cell_type": "code",
   "execution_count": 358,
   "metadata": {},
   "outputs": [
    {
     "ename": "NameError",
     "evalue": "name 'session' is not defined",
     "output_type": "error",
     "traceback": [
      "\u001b[0;31m---------------------------------------------------------------------------\u001b[0m",
      "\u001b[0;31mNameError\u001b[0m                                 Traceback (most recent call last)",
      "\u001b[0;32m<ipython-input-358-6e24eaf9b0bf>\u001b[0m in \u001b[0;36m<module>\u001b[0;34m()\u001b[0m\n\u001b[1;32m      1\u001b[0m \u001b[0mprefix\u001b[0m \u001b[0;34m=\u001b[0m \u001b[0;34m'boston-xgboost-deploy-ll'\u001b[0m\u001b[0;34m\u001b[0m\u001b[0m\n\u001b[1;32m      2\u001b[0m \u001b[0;34m\u001b[0m\u001b[0m\n\u001b[0;32m----> 3\u001b[0;31m \u001b[0mval_location\u001b[0m \u001b[0;34m=\u001b[0m \u001b[0msession\u001b[0m\u001b[0;34m.\u001b[0m\u001b[0mupload_data\u001b[0m\u001b[0;34m(\u001b[0m\u001b[0mos\u001b[0m\u001b[0;34m.\u001b[0m\u001b[0mpath\u001b[0m\u001b[0;34m.\u001b[0m\u001b[0mjoin\u001b[0m\u001b[0;34m(\u001b[0m\u001b[0mdata_dir\u001b[0m\u001b[0;34m,\u001b[0m \u001b[0;34m'validation.csv'\u001b[0m\u001b[0;34m)\u001b[0m\u001b[0;34m,\u001b[0m \u001b[0mkey_prefix\u001b[0m\u001b[0;34m=\u001b[0m\u001b[0mprefix\u001b[0m\u001b[0;34m)\u001b[0m\u001b[0;34m\u001b[0m\u001b[0m\n\u001b[0m\u001b[1;32m      4\u001b[0m \u001b[0mtrain_location\u001b[0m \u001b[0;34m=\u001b[0m \u001b[0msession\u001b[0m\u001b[0;34m.\u001b[0m\u001b[0mupload_data\u001b[0m\u001b[0;34m(\u001b[0m\u001b[0mos\u001b[0m\u001b[0;34m.\u001b[0m\u001b[0mpath\u001b[0m\u001b[0;34m.\u001b[0m\u001b[0mjoin\u001b[0m\u001b[0;34m(\u001b[0m\u001b[0mdata_dir\u001b[0m\u001b[0;34m,\u001b[0m \u001b[0;34m'train.csv'\u001b[0m\u001b[0;34m)\u001b[0m\u001b[0;34m,\u001b[0m \u001b[0mkey_prefix\u001b[0m\u001b[0;34m=\u001b[0m\u001b[0mprefix\u001b[0m\u001b[0;34m)\u001b[0m\u001b[0;34m\u001b[0m\u001b[0m\n",
      "\u001b[0;31mNameError\u001b[0m: name 'session' is not defined"
     ]
    }
   ],
   "source": [
    "prefix = 'boston-xgboost-deploy-ll'\n",
    "\n",
    "val_location = session.upload_data(os.path.join(data_dir, 'validation.csv'), key_prefix=prefix)\n",
    "train_location = session.upload_data(os.path.join(data_dir, 'train.csv'), key_prefix=prefix)"
   ]
  },
  {
   "cell_type": "markdown",
   "metadata": {},
   "source": [
    "## Step 8: Train and construct the Keras model\n",
    "\n",
    "Now that we have the training and validation data uploaded to S3, we can construct a training job for our XGBoost model and build the model itself.\n",
    "\n",
    "### Set up the training job\n",
    "\n",
    "First, we will set up and execute a training job for our model. To do this we need to specify some information that SageMaker will use to set up and properly execute the computation. For additional documentation on constructing a training job, see the [CreateTrainingJob API](https://docs.aws.amazon.com/sagemaker/latest/dg/API_CreateTrainingJob.html) reference."
   ]
  },
  {
   "cell_type": "code",
   "execution_count": 361,
   "metadata": {},
   "outputs": [
    {
     "name": "stdout",
     "output_type": "stream",
     "text": [
      "Epoch 1/20\n",
      "500/500 [==============================] - 68s 135ms/step - loss: 0.0686 - val_loss: 0.0337\n",
      "Epoch 2/20\n",
      "500/500 [==============================] - 59s 118ms/step - loss: 0.0185 - val_loss: 0.0390\n",
      "Epoch 3/20\n",
      "500/500 [==============================] - 58s 116ms/step - loss: 0.0165 - val_loss: 0.0354\n",
      "Epoch 4/20\n",
      "500/500 [==============================] - 60s 120ms/step - loss: 0.0139 - val_loss: 0.0836\n",
      "Epoch 5/20\n",
      "500/500 [==============================] - 58s 117ms/step - loss: 0.0129 - val_loss: 0.0312\n",
      "Epoch 6/20\n",
      "500/500 [==============================] - 59s 117ms/step - loss: 0.0117 - val_loss: 0.0187\n",
      "Epoch 7/20\n",
      "500/500 [==============================] - 60s 121ms/step - loss: 0.0112 - val_loss: 0.0159\n",
      "Epoch 8/20\n",
      "500/500 [==============================] - 59s 117ms/step - loss: 0.0105 - val_loss: 0.0187\n",
      "Epoch 9/20\n",
      "500/500 [==============================] - 58s 117ms/step - loss: 0.0106 - val_loss: 0.0233\n",
      "Epoch 10/20\n",
      "500/500 [==============================] - 60s 120ms/step - loss: 0.0096 - val_loss: 0.0152\n",
      "Epoch 11/20\n",
      "500/500 [==============================] - 59s 117ms/step - loss: 0.0094 - val_loss: 0.0164\n",
      "Epoch 12/20\n",
      "500/500 [==============================] - 59s 117ms/step - loss: 0.0096 - val_loss: 0.0143\n",
      "Epoch 13/20\n",
      "500/500 [==============================] - 60s 120ms/step - loss: 0.0098 - val_loss: 0.0196\n",
      "Epoch 14/20\n",
      "370/500 [=====================>........] - ETA: 14s - loss: 0.0088"
     ]
    },
    {
     "ename": "KeyboardInterrupt",
     "evalue": "",
     "output_type": "error",
     "traceback": [
      "\u001b[0;31m---------------------------------------------------------------------------\u001b[0m",
      "\u001b[0;31mKeyboardInterrupt\u001b[0m                         Traceback (most recent call last)",
      "\u001b[0;32m<ipython-input-361-af3963ef53c6>\u001b[0m in \u001b[0;36m<module>\u001b[0;34m()\u001b[0m\n\u001b[1;32m     10\u001b[0m                               \u001b[0mepochs\u001b[0m \u001b[0;34m=\u001b[0m \u001b[0;36m20\u001b[0m\u001b[0;34m,\u001b[0m\u001b[0;34m\u001b[0m\u001b[0m\n\u001b[1;32m     11\u001b[0m                               \u001b[0mvalidation_data\u001b[0m \u001b[0;34m=\u001b[0m \u001b[0mval_generator\u001b[0m\u001b[0;34m,\u001b[0m\u001b[0;34m\u001b[0m\u001b[0m\n\u001b[0;32m---> 12\u001b[0;31m                               validation_steps = len(val_generator))\n\u001b[0m",
      "\u001b[0;32m~/anaconda3/envs/tensorflow_p36/lib/python3.6/site-packages/keras/legacy/interfaces.py\u001b[0m in \u001b[0;36mwrapper\u001b[0;34m(*args, **kwargs)\u001b[0m\n\u001b[1;32m     89\u001b[0m                 warnings.warn('Update your `' + object_name + '` call to the ' +\n\u001b[1;32m     90\u001b[0m                               'Keras 2 API: ' + signature, stacklevel=2)\n\u001b[0;32m---> 91\u001b[0;31m             \u001b[0;32mreturn\u001b[0m \u001b[0mfunc\u001b[0m\u001b[0;34m(\u001b[0m\u001b[0;34m*\u001b[0m\u001b[0margs\u001b[0m\u001b[0;34m,\u001b[0m \u001b[0;34m**\u001b[0m\u001b[0mkwargs\u001b[0m\u001b[0;34m)\u001b[0m\u001b[0;34m\u001b[0m\u001b[0m\n\u001b[0m\u001b[1;32m     92\u001b[0m         \u001b[0mwrapper\u001b[0m\u001b[0;34m.\u001b[0m\u001b[0m_original_function\u001b[0m \u001b[0;34m=\u001b[0m \u001b[0mfunc\u001b[0m\u001b[0;34m\u001b[0m\u001b[0m\n\u001b[1;32m     93\u001b[0m         \u001b[0;32mreturn\u001b[0m \u001b[0mwrapper\u001b[0m\u001b[0;34m\u001b[0m\u001b[0m\n",
      "\u001b[0;32m~/anaconda3/envs/tensorflow_p36/lib/python3.6/site-packages/keras/engine/training.py\u001b[0m in \u001b[0;36mfit_generator\u001b[0;34m(self, generator, steps_per_epoch, epochs, verbose, callbacks, validation_data, validation_steps, class_weight, max_queue_size, workers, use_multiprocessing, shuffle, initial_epoch)\u001b[0m\n\u001b[1;32m   1416\u001b[0m             \u001b[0muse_multiprocessing\u001b[0m\u001b[0;34m=\u001b[0m\u001b[0muse_multiprocessing\u001b[0m\u001b[0;34m,\u001b[0m\u001b[0;34m\u001b[0m\u001b[0m\n\u001b[1;32m   1417\u001b[0m             \u001b[0mshuffle\u001b[0m\u001b[0;34m=\u001b[0m\u001b[0mshuffle\u001b[0m\u001b[0;34m,\u001b[0m\u001b[0;34m\u001b[0m\u001b[0m\n\u001b[0;32m-> 1418\u001b[0;31m             initial_epoch=initial_epoch)\n\u001b[0m\u001b[1;32m   1419\u001b[0m \u001b[0;34m\u001b[0m\u001b[0m\n\u001b[1;32m   1420\u001b[0m     \u001b[0;34m@\u001b[0m\u001b[0minterfaces\u001b[0m\u001b[0;34m.\u001b[0m\u001b[0mlegacy_generator_methods_support\u001b[0m\u001b[0;34m\u001b[0m\u001b[0m\n",
      "\u001b[0;32m~/anaconda3/envs/tensorflow_p36/lib/python3.6/site-packages/keras/engine/training_generator.py\u001b[0m in \u001b[0;36mfit_generator\u001b[0;34m(model, generator, steps_per_epoch, epochs, verbose, callbacks, validation_data, validation_steps, class_weight, max_queue_size, workers, use_multiprocessing, shuffle, initial_epoch)\u001b[0m\n\u001b[1;32m    215\u001b[0m                 outs = model.train_on_batch(x, y,\n\u001b[1;32m    216\u001b[0m                                             \u001b[0msample_weight\u001b[0m\u001b[0;34m=\u001b[0m\u001b[0msample_weight\u001b[0m\u001b[0;34m,\u001b[0m\u001b[0;34m\u001b[0m\u001b[0m\n\u001b[0;32m--> 217\u001b[0;31m                                             class_weight=class_weight)\n\u001b[0m\u001b[1;32m    218\u001b[0m \u001b[0;34m\u001b[0m\u001b[0m\n\u001b[1;32m    219\u001b[0m                 \u001b[0mouts\u001b[0m \u001b[0;34m=\u001b[0m \u001b[0mto_list\u001b[0m\u001b[0;34m(\u001b[0m\u001b[0mouts\u001b[0m\u001b[0;34m)\u001b[0m\u001b[0;34m\u001b[0m\u001b[0m\n",
      "\u001b[0;32m~/anaconda3/envs/tensorflow_p36/lib/python3.6/site-packages/keras/engine/training.py\u001b[0m in \u001b[0;36mtrain_on_batch\u001b[0;34m(self, x, y, sample_weight, class_weight)\u001b[0m\n\u001b[1;32m   1215\u001b[0m             \u001b[0mins\u001b[0m \u001b[0;34m=\u001b[0m \u001b[0mx\u001b[0m \u001b[0;34m+\u001b[0m \u001b[0my\u001b[0m \u001b[0;34m+\u001b[0m \u001b[0msample_weights\u001b[0m\u001b[0;34m\u001b[0m\u001b[0m\n\u001b[1;32m   1216\u001b[0m         \u001b[0mself\u001b[0m\u001b[0;34m.\u001b[0m\u001b[0m_make_train_function\u001b[0m\u001b[0;34m(\u001b[0m\u001b[0;34m)\u001b[0m\u001b[0;34m\u001b[0m\u001b[0m\n\u001b[0;32m-> 1217\u001b[0;31m         \u001b[0moutputs\u001b[0m \u001b[0;34m=\u001b[0m \u001b[0mself\u001b[0m\u001b[0;34m.\u001b[0m\u001b[0mtrain_function\u001b[0m\u001b[0;34m(\u001b[0m\u001b[0mins\u001b[0m\u001b[0;34m)\u001b[0m\u001b[0;34m\u001b[0m\u001b[0m\n\u001b[0m\u001b[1;32m   1218\u001b[0m         \u001b[0;32mreturn\u001b[0m \u001b[0munpack_singleton\u001b[0m\u001b[0;34m(\u001b[0m\u001b[0moutputs\u001b[0m\u001b[0;34m)\u001b[0m\u001b[0;34m\u001b[0m\u001b[0m\n\u001b[1;32m   1219\u001b[0m \u001b[0;34m\u001b[0m\u001b[0m\n",
      "\u001b[0;32m~/anaconda3/envs/tensorflow_p36/lib/python3.6/site-packages/keras/backend/tensorflow_backend.py\u001b[0m in \u001b[0;36m__call__\u001b[0;34m(self, inputs)\u001b[0m\n\u001b[1;32m   2713\u001b[0m                 \u001b[0;32mreturn\u001b[0m \u001b[0mself\u001b[0m\u001b[0;34m.\u001b[0m\u001b[0m_legacy_call\u001b[0m\u001b[0;34m(\u001b[0m\u001b[0minputs\u001b[0m\u001b[0;34m)\u001b[0m\u001b[0;34m\u001b[0m\u001b[0m\n\u001b[1;32m   2714\u001b[0m \u001b[0;34m\u001b[0m\u001b[0m\n\u001b[0;32m-> 2715\u001b[0;31m             \u001b[0;32mreturn\u001b[0m \u001b[0mself\u001b[0m\u001b[0;34m.\u001b[0m\u001b[0m_call\u001b[0m\u001b[0;34m(\u001b[0m\u001b[0minputs\u001b[0m\u001b[0;34m)\u001b[0m\u001b[0;34m\u001b[0m\u001b[0m\n\u001b[0m\u001b[1;32m   2716\u001b[0m         \u001b[0;32melse\u001b[0m\u001b[0;34m:\u001b[0m\u001b[0;34m\u001b[0m\u001b[0m\n\u001b[1;32m   2717\u001b[0m             \u001b[0;32mif\u001b[0m \u001b[0mpy_any\u001b[0m\u001b[0;34m(\u001b[0m\u001b[0mis_tensor\u001b[0m\u001b[0;34m(\u001b[0m\u001b[0mx\u001b[0m\u001b[0;34m)\u001b[0m \u001b[0;32mfor\u001b[0m \u001b[0mx\u001b[0m \u001b[0;32min\u001b[0m \u001b[0minputs\u001b[0m\u001b[0;34m)\u001b[0m\u001b[0;34m:\u001b[0m\u001b[0;34m\u001b[0m\u001b[0m\n",
      "\u001b[0;32m~/anaconda3/envs/tensorflow_p36/lib/python3.6/site-packages/keras/backend/tensorflow_backend.py\u001b[0m in \u001b[0;36m_call\u001b[0;34m(self, inputs)\u001b[0m\n\u001b[1;32m   2673\u001b[0m             \u001b[0mfetched\u001b[0m \u001b[0;34m=\u001b[0m \u001b[0mself\u001b[0m\u001b[0;34m.\u001b[0m\u001b[0m_callable_fn\u001b[0m\u001b[0;34m(\u001b[0m\u001b[0;34m*\u001b[0m\u001b[0marray_vals\u001b[0m\u001b[0;34m,\u001b[0m \u001b[0mrun_metadata\u001b[0m\u001b[0;34m=\u001b[0m\u001b[0mself\u001b[0m\u001b[0;34m.\u001b[0m\u001b[0mrun_metadata\u001b[0m\u001b[0;34m)\u001b[0m\u001b[0;34m\u001b[0m\u001b[0m\n\u001b[1;32m   2674\u001b[0m         \u001b[0;32melse\u001b[0m\u001b[0;34m:\u001b[0m\u001b[0;34m\u001b[0m\u001b[0m\n\u001b[0;32m-> 2675\u001b[0;31m             \u001b[0mfetched\u001b[0m \u001b[0;34m=\u001b[0m \u001b[0mself\u001b[0m\u001b[0;34m.\u001b[0m\u001b[0m_callable_fn\u001b[0m\u001b[0;34m(\u001b[0m\u001b[0;34m*\u001b[0m\u001b[0marray_vals\u001b[0m\u001b[0;34m)\u001b[0m\u001b[0;34m\u001b[0m\u001b[0m\n\u001b[0m\u001b[1;32m   2676\u001b[0m         \u001b[0;32mreturn\u001b[0m \u001b[0mfetched\u001b[0m\u001b[0;34m[\u001b[0m\u001b[0;34m:\u001b[0m\u001b[0mlen\u001b[0m\u001b[0;34m(\u001b[0m\u001b[0mself\u001b[0m\u001b[0;34m.\u001b[0m\u001b[0moutputs\u001b[0m\u001b[0;34m)\u001b[0m\u001b[0;34m]\u001b[0m\u001b[0;34m\u001b[0m\u001b[0m\n\u001b[1;32m   2677\u001b[0m \u001b[0;34m\u001b[0m\u001b[0m\n",
      "\u001b[0;32m~/anaconda3/envs/tensorflow_p36/lib/python3.6/site-packages/tensorflow/python/client/session.py\u001b[0m in \u001b[0;36m__call__\u001b[0;34m(self, *args, **kwargs)\u001b[0m\n\u001b[1;32m   1437\u001b[0m           ret = tf_session.TF_SessionRunCallable(\n\u001b[1;32m   1438\u001b[0m               \u001b[0mself\u001b[0m\u001b[0;34m.\u001b[0m\u001b[0m_session\u001b[0m\u001b[0;34m.\u001b[0m\u001b[0m_session\u001b[0m\u001b[0;34m,\u001b[0m \u001b[0mself\u001b[0m\u001b[0;34m.\u001b[0m\u001b[0m_handle\u001b[0m\u001b[0;34m,\u001b[0m \u001b[0margs\u001b[0m\u001b[0;34m,\u001b[0m \u001b[0mstatus\u001b[0m\u001b[0;34m,\u001b[0m\u001b[0;34m\u001b[0m\u001b[0m\n\u001b[0;32m-> 1439\u001b[0;31m               run_metadata_ptr)\n\u001b[0m\u001b[1;32m   1440\u001b[0m         \u001b[0;32mif\u001b[0m \u001b[0mrun_metadata\u001b[0m\u001b[0;34m:\u001b[0m\u001b[0;34m\u001b[0m\u001b[0m\n\u001b[1;32m   1441\u001b[0m           \u001b[0mproto_data\u001b[0m \u001b[0;34m=\u001b[0m \u001b[0mtf_session\u001b[0m\u001b[0;34m.\u001b[0m\u001b[0mTF_GetBuffer\u001b[0m\u001b[0;34m(\u001b[0m\u001b[0mrun_metadata_ptr\u001b[0m\u001b[0;34m)\u001b[0m\u001b[0;34m\u001b[0m\u001b[0m\n",
      "\u001b[0;31mKeyboardInterrupt\u001b[0m: "
     ]
    }
   ],
   "source": [
    "model = Sequential()\n",
    "model.add(Bidirectional(LSTM(32, activation = 'relu', dropout = 0.0, recurrent_dropout = 0.0, return_sequences = True), input_shape = (None, train_data.shape[-1])))\n",
    "model.add(Bidirectional(LSTM(8, activation = 'relu', dropout = 0.0, recurrent_dropout = 0.0)))\n",
    "model.add(layers.Dense(1))\n",
    "\n",
    "model.compile(optimizer = Adam(lr = 0.0025, beta_1 = 0.9, beta_2 = 0.999, epsilon = None, decay = 0.001, amsgrad = False), loss = 'mae')\n",
    "\n",
    "history = model.fit_generator(train_generator,\n",
    "                              steps_per_epoch = 500,\n",
    "                              epochs = 20,\n",
    "                              validation_data = val_generator,\n",
    "                              validation_steps = len(val_generator))"
   ]
  },
  {
   "cell_type": "code",
   "execution_count": null,
   "metadata": {},
   "outputs": [],
   "source": []
  },
  {
   "cell_type": "code",
   "execution_count": null,
   "metadata": {},
   "outputs": [],
   "source": []
  },
  {
   "cell_type": "code",
   "execution_count": null,
   "metadata": {},
   "outputs": [],
   "source": []
  },
  {
   "cell_type": "code",
   "execution_count": null,
   "metadata": {},
   "outputs": [],
   "source": []
  },
  {
   "cell_type": "code",
   "execution_count": null,
   "metadata": {},
   "outputs": [],
   "source": []
  },
  {
   "cell_type": "code",
   "execution_count": null,
   "metadata": {},
   "outputs": [],
   "source": []
  },
  {
   "cell_type": "code",
   "execution_count": null,
   "metadata": {},
   "outputs": [],
   "source": []
  }
 ],
 "metadata": {
  "kernelspec": {
   "display_name": "conda_tensorflow_p36",
   "language": "python",
   "name": "conda_tensorflow_p36"
  },
  "language_info": {
   "codemirror_mode": {
    "name": "ipython",
    "version": 3
   },
   "file_extension": ".py",
   "mimetype": "text/x-python",
   "name": "python",
   "nbconvert_exporter": "python",
   "pygments_lexer": "ipython3",
   "version": "3.6.5"
  }
 },
 "nbformat": 4,
 "nbformat_minor": 4
}
