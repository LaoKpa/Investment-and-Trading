{
 "cells": [
  {
   "cell_type": "markdown",
   "metadata": {},
   "source": [
    "# Creating a Investment and Trading Web App\n",
    "## Using PyTorch and SageMaker\n",
    "\n",
    "_Deep Learning Nanodegree Program | Deployment_\n",
    "\n",
    "---"
   ]
  },
  {
   "cell_type": "code",
   "execution_count": 3,
   "metadata": {},
   "outputs": [],
   "source": [
    "import os\n",
    "import numpy as np\n",
    "import pandas as pd\n",
    "import matplotlib.pyplot as plt\n",
    "import sklearn.preprocessing\n",
    "import warnings"
   ]
  },
  {
   "cell_type": "code",
   "execution_count": 5,
   "metadata": {},
   "outputs": [],
   "source": [
    "pd.options.display.float_format = '{:,.2f}'.format\n",
    "warnings.filterwarnings('ignore')"
   ]
  },
  {
   "cell_type": "code",
   "execution_count": 6,
   "metadata": {},
   "outputs": [
    {
     "name": "stdout",
     "output_type": "stream",
     "text": [
      "--2019-08-03 03:43:53--  https://investment-and-trading-udacity.s3-us-west-2.amazonaws.com/JPM+2009-2019.csv\n",
      "Resolving investment-and-trading-udacity.s3-us-west-2.amazonaws.com (investment-and-trading-udacity.s3-us-west-2.amazonaws.com)... 52.218.240.177\n",
      "Connecting to investment-and-trading-udacity.s3-us-west-2.amazonaws.com (investment-and-trading-udacity.s3-us-west-2.amazonaws.com)|52.218.240.177|:443... connected.\n",
      "HTTP request sent, awaiting response... 200 OK\n",
      "Length: 187676 (183K) [text/csv]\n",
      "Saving to: ‘../data/raw/JPM+2009-2019.csv’\n",
      "\n",
      "../data/raw/JPM+200 100%[===================>] 183.28K   864KB/s    in 0.2s    \n",
      "\n",
      "2019-08-03 03:43:53 (864 KB/s) - ‘../data/raw/JPM+2009-2019.csv’ saved [187676/187676]\n",
      "\n"
     ]
    }
   ],
   "source": [
    "!wget https://investment-and-trading-udacity.s3-us-west-2.amazonaws.com/JPM+2009-2019.csv -O ../data/raw/JPM+2009-2019.csv"
   ]
  },
  {
   "cell_type": "code",
   "execution_count": 7,
   "metadata": {},
   "outputs": [],
   "source": [
    "stock_data = pd.read_csv('../data/raw/JPM+2009-2019.csv') "
   ]
  },
  {
   "cell_type": "code",
   "execution_count": 8,
   "metadata": {},
   "outputs": [
    {
     "name": "stdout",
     "output_type": "stream",
     "text": [
      "<class 'pandas.core.frame.DataFrame'>\n",
      "RangeIndex: 2654 entries, 0 to 2653\n",
      "Data columns (total 7 columns):\n",
      "Date         2654 non-null object\n",
      "Open         2654 non-null float64\n",
      "High         2654 non-null float64\n",
      "Low          2654 non-null float64\n",
      "Close        2654 non-null float64\n",
      "Adj Close    2654 non-null float64\n",
      "Volume       2654 non-null int64\n",
      "dtypes: float64(5), int64(1), object(1)\n",
      "memory usage: 145.2+ KB\n"
     ]
    }
   ],
   "source": [
    "stock_data.info()"
   ]
  },
  {
   "cell_type": "code",
   "execution_count": 9,
   "metadata": {},
   "outputs": [
    {
     "data": {
      "text/plain": [
       "(2654, 7)"
      ]
     },
     "execution_count": 9,
     "metadata": {},
     "output_type": "execute_result"
    }
   ],
   "source": [
    "stock_data.shape"
   ]
  },
  {
   "cell_type": "code",
   "execution_count": 10,
   "metadata": {},
   "outputs": [
    {
     "data": {
      "text/html": [
       "<div>\n",
       "<style scoped>\n",
       "    .dataframe tbody tr th:only-of-type {\n",
       "        vertical-align: middle;\n",
       "    }\n",
       "\n",
       "    .dataframe tbody tr th {\n",
       "        vertical-align: top;\n",
       "    }\n",
       "\n",
       "    .dataframe thead th {\n",
       "        text-align: right;\n",
       "    }\n",
       "</style>\n",
       "<table border=\"1\" class=\"dataframe\">\n",
       "  <thead>\n",
       "    <tr style=\"text-align: right;\">\n",
       "      <th></th>\n",
       "      <th>Date</th>\n",
       "      <th>Open</th>\n",
       "      <th>High</th>\n",
       "      <th>Low</th>\n",
       "      <th>Close</th>\n",
       "      <th>Adj Close</th>\n",
       "      <th>Volume</th>\n",
       "    </tr>\n",
       "  </thead>\n",
       "  <tbody>\n",
       "    <tr>\n",
       "      <th>0</th>\n",
       "      <td>2009-01-02</td>\n",
       "      <td>31.19</td>\n",
       "      <td>31.64</td>\n",
       "      <td>30.47</td>\n",
       "      <td>31.35</td>\n",
       "      <td>24.56</td>\n",
       "      <td>32494900</td>\n",
       "    </tr>\n",
       "    <tr>\n",
       "      <th>1</th>\n",
       "      <td>2009-01-05</td>\n",
       "      <td>30.73</td>\n",
       "      <td>30.77</td>\n",
       "      <td>29.08</td>\n",
       "      <td>29.25</td>\n",
       "      <td>22.92</td>\n",
       "      <td>44069400</td>\n",
       "    </tr>\n",
       "    <tr>\n",
       "      <th>2</th>\n",
       "      <td>2009-01-06</td>\n",
       "      <td>29.79</td>\n",
       "      <td>30.42</td>\n",
       "      <td>29.51</td>\n",
       "      <td>29.88</td>\n",
       "      <td>23.41</td>\n",
       "      <td>44216300</td>\n",
       "    </tr>\n",
       "    <tr>\n",
       "      <th>3</th>\n",
       "      <td>2009-01-07</td>\n",
       "      <td>29.15</td>\n",
       "      <td>29.40</td>\n",
       "      <td>28.00</td>\n",
       "      <td>28.09</td>\n",
       "      <td>22.01</td>\n",
       "      <td>42156500</td>\n",
       "    </tr>\n",
       "    <tr>\n",
       "      <th>4</th>\n",
       "      <td>2009-01-08</td>\n",
       "      <td>27.90</td>\n",
       "      <td>27.95</td>\n",
       "      <td>26.86</td>\n",
       "      <td>27.22</td>\n",
       "      <td>21.33</td>\n",
       "      <td>52075800</td>\n",
       "    </tr>\n",
       "  </tbody>\n",
       "</table>\n",
       "</div>"
      ],
      "text/plain": [
       "         Date  Open  High   Low  Close  Adj Close    Volume\n",
       "0  2009-01-02 31.19 31.64 30.47  31.35      24.56  32494900\n",
       "1  2009-01-05 30.73 30.77 29.08  29.25      22.92  44069400\n",
       "2  2009-01-06 29.79 30.42 29.51  29.88      23.41  44216300\n",
       "3  2009-01-07 29.15 29.40 28.00  28.09      22.01  42156500\n",
       "4  2009-01-08 27.90 27.95 26.86  27.22      21.33  52075800"
      ]
     },
     "execution_count": 10,
     "metadata": {},
     "output_type": "execute_result"
    }
   ],
   "source": [
    "stock_data.head()"
   ]
  },
  {
   "cell_type": "code",
   "execution_count": 11,
   "metadata": {},
   "outputs": [
    {
     "data": {
      "text/html": [
       "<div>\n",
       "<style scoped>\n",
       "    .dataframe tbody tr th:only-of-type {\n",
       "        vertical-align: middle;\n",
       "    }\n",
       "\n",
       "    .dataframe tbody tr th {\n",
       "        vertical-align: top;\n",
       "    }\n",
       "\n",
       "    .dataframe thead th {\n",
       "        text-align: right;\n",
       "    }\n",
       "</style>\n",
       "<table border=\"1\" class=\"dataframe\">\n",
       "  <thead>\n",
       "    <tr style=\"text-align: right;\">\n",
       "      <th></th>\n",
       "      <th>Open</th>\n",
       "      <th>High</th>\n",
       "      <th>Low</th>\n",
       "      <th>Close</th>\n",
       "      <th>Adj Close</th>\n",
       "      <th>Volume</th>\n",
       "    </tr>\n",
       "  </thead>\n",
       "  <tbody>\n",
       "    <tr>\n",
       "      <th>count</th>\n",
       "      <td>2,654.00</td>\n",
       "      <td>2,654.00</td>\n",
       "      <td>2,654.00</td>\n",
       "      <td>2,654.00</td>\n",
       "      <td>2,654.00</td>\n",
       "      <td>2,654.00</td>\n",
       "    </tr>\n",
       "    <tr>\n",
       "      <th>mean</th>\n",
       "      <td>62.13</td>\n",
       "      <td>62.72</td>\n",
       "      <td>61.53</td>\n",
       "      <td>62.13</td>\n",
       "      <td>55.72</td>\n",
       "      <td>26,770,442.20</td>\n",
       "    </tr>\n",
       "    <tr>\n",
       "      <th>std</th>\n",
       "      <td>25.80</td>\n",
       "      <td>25.91</td>\n",
       "      <td>25.69</td>\n",
       "      <td>25.79</td>\n",
       "      <td>27.44</td>\n",
       "      <td>21,861,503.66</td>\n",
       "    </tr>\n",
       "    <tr>\n",
       "      <th>min</th>\n",
       "      <td>15.37</td>\n",
       "      <td>17.29</td>\n",
       "      <td>14.96</td>\n",
       "      <td>15.90</td>\n",
       "      <td>12.46</td>\n",
       "      <td>3,680,000.00</td>\n",
       "    </tr>\n",
       "    <tr>\n",
       "      <th>25%</th>\n",
       "      <td>41.50</td>\n",
       "      <td>41.94</td>\n",
       "      <td>41.03</td>\n",
       "      <td>41.53</td>\n",
       "      <td>33.33</td>\n",
       "      <td>13,436,550.00</td>\n",
       "    </tr>\n",
       "    <tr>\n",
       "      <th>50%</th>\n",
       "      <td>56.62</td>\n",
       "      <td>57.00</td>\n",
       "      <td>56.14</td>\n",
       "      <td>56.67</td>\n",
       "      <td>49.27</td>\n",
       "      <td>19,304,750.00</td>\n",
       "    </tr>\n",
       "    <tr>\n",
       "      <th>75%</th>\n",
       "      <td>78.75</td>\n",
       "      <td>79.44</td>\n",
       "      <td>78.30</td>\n",
       "      <td>79.25</td>\n",
       "      <td>73.62</td>\n",
       "      <td>32,481,600.00</td>\n",
       "    </tr>\n",
       "    <tr>\n",
       "      <th>max</th>\n",
       "      <td>119.13</td>\n",
       "      <td>119.33</td>\n",
       "      <td>118.08</td>\n",
       "      <td>118.77</td>\n",
       "      <td>115.30</td>\n",
       "      <td>217,294,200.00</td>\n",
       "    </tr>\n",
       "  </tbody>\n",
       "</table>\n",
       "</div>"
      ],
      "text/plain": [
       "          Open     High      Low    Close  Adj Close         Volume\n",
       "count 2,654.00 2,654.00 2,654.00 2,654.00   2,654.00       2,654.00\n",
       "mean     62.13    62.72    61.53    62.13      55.72  26,770,442.20\n",
       "std      25.80    25.91    25.69    25.79      27.44  21,861,503.66\n",
       "min      15.37    17.29    14.96    15.90      12.46   3,680,000.00\n",
       "25%      41.50    41.94    41.03    41.53      33.33  13,436,550.00\n",
       "50%      56.62    57.00    56.14    56.67      49.27  19,304,750.00\n",
       "75%      78.75    79.44    78.30    79.25      73.62  32,481,600.00\n",
       "max     119.13   119.33   118.08   118.77     115.30 217,294,200.00"
      ]
     },
     "execution_count": 11,
     "metadata": {},
     "output_type": "execute_result"
    }
   ],
   "source": [
    "stock_data.describe()"
   ]
  },
  {
   "cell_type": "code",
   "execution_count": null,
   "metadata": {},
   "outputs": [],
   "source": []
  }
 ],
 "metadata": {
  "kernelspec": {
   "display_name": "Python 3",
   "language": "python",
   "name": "python3"
  },
  "language_info": {
   "codemirror_mode": {
    "name": "ipython",
    "version": 3
   },
   "file_extension": ".py",
   "mimetype": "text/x-python",
   "name": "python",
   "nbconvert_exporter": "python",
   "pygments_lexer": "ipython3",
   "version": "3.7.3"
  }
 },
 "nbformat": 4,
 "nbformat_minor": 4
}
